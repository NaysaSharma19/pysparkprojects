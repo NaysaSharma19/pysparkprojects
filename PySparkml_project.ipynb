{
  "metadata": {
    "kernelspec": {
      "language": "python",
      "display_name": "Python 3",
      "name": "python3"
    },
    "language_info": {
      "pygments_lexer": "ipython3",
      "nbconvert_exporter": "python",
      "version": "3.6.4",
      "file_extension": ".py",
      "codemirror_mode": {
        "name": "ipython",
        "version": 3
      },
      "name": "python",
      "mimetype": "text/x-python"
    },
    "colab": {
      "provenance": []
    }
  },
  "nbformat_minor": 0,
  "nbformat": 4,
  "cells": [
    {
      "source": [
        "\n",
        "import kagglehub\n",
        "towhidultonmoy_datasets_for_pyspark_project_path = kagglehub.dataset_download('towhidultonmoy/datasets-for-pyspark-project')\n",
        "\n",
        "print('Data source import complete.')\n"
      ],
      "metadata": {
        "id": "IrA0zwkQsaDG"
      },
      "cell_type": "code",
      "outputs": [],
      "execution_count": null
    },
    {
      "cell_type": "code",
      "source": [],
      "metadata": {
        "id": "cmxgMLDpsaDI"
      },
      "execution_count": null,
      "outputs": []
    },
    {
      "cell_type": "code",
      "source": [
        "!pip install pyspark"
      ],
      "metadata": {
        "execution": {
          "iopub.status.busy": "2022-10-04T18:35:35.237678Z",
          "iopub.execute_input": "2022-10-04T18:35:35.238143Z",
          "iopub.status.idle": "2022-10-04T18:36:50.74432Z",
          "shell.execute_reply.started": "2022-10-04T18:35:35.238053Z",
          "shell.execute_reply": "2022-10-04T18:36:50.743103Z"
        },
        "trusted": true,
        "id": "Jx6xd19AsaDI",
        "colab": {
          "base_uri": "https://localhost:8080/"
        },
        "outputId": "9afaf0c1-9fb2-44cd-befa-5f6d22be4501"
      },
      "execution_count": null,
      "outputs": [
        {
          "output_type": "stream",
          "name": "stdout",
          "text": [
            "Requirement already satisfied: pyspark in /usr/local/lib/python3.11/dist-packages (3.5.1)\n",
            "Requirement already satisfied: py4j==0.10.9.7 in /usr/local/lib/python3.11/dist-packages (from pyspark) (0.10.9.7)\n"
          ]
        }
      ]
    },
    {
      "cell_type": "code",
      "source": [
        "import pyspark as sp\n",
        "\n",
        "sc = sp.SparkContext.getOrCreate()\n",
        "print(sc)\n",
        "print(sc.version)"
      ],
      "metadata": {
        "_uuid": "8f2839f25d086af736a60e9eeb907d3b93b6e0e5",
        "_cell_guid": "b1076dfc-b9ad-4769-8c92-a6c4dae69d19",
        "execution": {
          "iopub.status.busy": "2022-10-04T18:36:50.746766Z",
          "iopub.execute_input": "2022-10-04T18:36:50.747161Z",
          "iopub.status.idle": "2022-10-04T18:36:56.983636Z",
          "shell.execute_reply.started": "2022-10-04T18:36:50.747121Z",
          "shell.execute_reply": "2022-10-04T18:36:56.982061Z"
        },
        "trusted": true,
        "id": "Ef9DV_-OsaDI",
        "colab": {
          "base_uri": "https://localhost:8080/"
        },
        "outputId": "484b2219-497e-4ba6-e893-3a32a860740e"
      },
      "execution_count": null,
      "outputs": [
        {
          "output_type": "stream",
          "name": "stdout",
          "text": [
            "<SparkContext master=local[*] appName=pyspark-shell>\n",
            "3.5.1\n"
          ]
        }
      ]
    },
    {
      "cell_type": "code",
      "source": [
        "\n",
        "from pyspark.sql import SparkSession\n",
        "\n",
        "spark = SparkSession.builder.getOrCreate()\n",
        "\n",
        "print(spark)"
      ],
      "metadata": {
        "execution": {
          "iopub.status.busy": "2022-10-04T18:36:56.986316Z",
          "iopub.execute_input": "2022-10-04T18:36:56.987186Z",
          "iopub.status.idle": "2022-10-04T18:36:57.168493Z",
          "shell.execute_reply.started": "2022-10-04T18:36:56.987127Z",
          "shell.execute_reply": "2022-10-04T18:36:57.166333Z"
        },
        "trusted": true,
        "id": "dVHtFReKsaDJ",
        "colab": {
          "base_uri": "https://localhost:8080/"
        },
        "outputId": "4383c4cc-1e5e-4687-923f-f1ebe49e2270"
      },
      "execution_count": null,
      "outputs": [
        {
          "output_type": "stream",
          "name": "stdout",
          "text": [
            "<pyspark.sql.session.SparkSession object at 0x795269480fd0>\n"
          ]
        }
      ]
    },
    {
      "cell_type": "code",
      "source": [
        "\n",
        "import pandas as pd\n",
        "import numpy as np\n",
        "\n",
        "pd_temp = pd.DataFrame(np.random.random(10))\n",
        "\n",
        "spark_temp = spark.createDataFrame(pd_temp)\n",
        "\n",
        "print(spark.catalog.listTables())\n",
        "\n",
        "spark_temp.createOrReplaceTempView(\"temp\")\n",
        "\n",
        "print(spark.catalog.listTables())"
      ],
      "metadata": {
        "execution": {
          "iopub.status.busy": "2022-10-04T18:36:57.171664Z",
          "iopub.execute_input": "2022-10-04T18:36:57.172754Z",
          "iopub.status.idle": "2022-10-04T18:37:03.348656Z",
          "shell.execute_reply.started": "2022-10-04T18:36:57.172713Z",
          "shell.execute_reply": "2022-10-04T18:37:03.347401Z"
        },
        "trusted": true,
        "id": "j8UENYURsaDJ",
        "colab": {
          "base_uri": "https://localhost:8080/"
        },
        "outputId": "c56ae353-6899-46e2-c7bb-a12820e602a1"
      },
      "execution_count": null,
      "outputs": [
        {
          "output_type": "stream",
          "name": "stdout",
          "text": [
            "[]\n",
            "[Table(name='temp', catalog=None, namespace=[], description=None, tableType='TEMPORARY', isTemporary=True)]\n"
          ]
        }
      ]
    },
    {
      "cell_type": "code",
      "source": [
        "from google.colab import files\n",
        "\n",
        "uploaded = files.upload()\n",
        "\n"
      ],
      "metadata": {
        "execution": {
          "iopub.status.busy": "2022-10-04T18:37:03.349952Z",
          "iopub.execute_input": "2022-10-04T18:37:03.350415Z",
          "iopub.status.idle": "2022-10-04T18:37:04.908662Z",
          "shell.execute_reply.started": "2022-10-04T18:37:03.350372Z",
          "shell.execute_reply": "2022-10-04T18:37:04.907365Z"
        },
        "trusted": true,
        "id": "2Sbpt5vqsaDK",
        "colab": {
          "base_uri": "https://localhost:8080/",
          "height": 144
        },
        "outputId": "1a3a895b-b89f-4266-dc80-9718c331ca99"
      },
      "execution_count": null,
      "outputs": [
        {
          "output_type": "display_data",
          "data": {
            "text/plain": [
              "<IPython.core.display.HTML object>"
            ],
            "text/html": [
              "\n",
              "     <input type=\"file\" id=\"files-28629b41-ddcf-43f5-a4d2-83bf79925153\" name=\"files[]\" multiple disabled\n",
              "        style=\"border:none\" />\n",
              "     <output id=\"result-28629b41-ddcf-43f5-a4d2-83bf79925153\">\n",
              "      Upload widget is only available when the cell has been executed in the\n",
              "      current browser session. Please rerun this cell to enable.\n",
              "      </output>\n",
              "      <script>// Copyright 2017 Google LLC\n",
              "//\n",
              "// Licensed under the Apache License, Version 2.0 (the \"License\");\n",
              "// you may not use this file except in compliance with the License.\n",
              "// You may obtain a copy of the License at\n",
              "//\n",
              "//      http://www.apache.org/licenses/LICENSE-2.0\n",
              "//\n",
              "// Unless required by applicable law or agreed to in writing, software\n",
              "// distributed under the License is distributed on an \"AS IS\" BASIS,\n",
              "// WITHOUT WARRANTIES OR CONDITIONS OF ANY KIND, either express or implied.\n",
              "// See the License for the specific language governing permissions and\n",
              "// limitations under the License.\n",
              "\n",
              "/**\n",
              " * @fileoverview Helpers for google.colab Python module.\n",
              " */\n",
              "(function(scope) {\n",
              "function span(text, styleAttributes = {}) {\n",
              "  const element = document.createElement('span');\n",
              "  element.textContent = text;\n",
              "  for (const key of Object.keys(styleAttributes)) {\n",
              "    element.style[key] = styleAttributes[key];\n",
              "  }\n",
              "  return element;\n",
              "}\n",
              "\n",
              "// Max number of bytes which will be uploaded at a time.\n",
              "const MAX_PAYLOAD_SIZE = 100 * 1024;\n",
              "\n",
              "function _uploadFiles(inputId, outputId) {\n",
              "  const steps = uploadFilesStep(inputId, outputId);\n",
              "  const outputElement = document.getElementById(outputId);\n",
              "  // Cache steps on the outputElement to make it available for the next call\n",
              "  // to uploadFilesContinue from Python.\n",
              "  outputElement.steps = steps;\n",
              "\n",
              "  return _uploadFilesContinue(outputId);\n",
              "}\n",
              "\n",
              "// This is roughly an async generator (not supported in the browser yet),\n",
              "// where there are multiple asynchronous steps and the Python side is going\n",
              "// to poll for completion of each step.\n",
              "// This uses a Promise to block the python side on completion of each step,\n",
              "// then passes the result of the previous step as the input to the next step.\n",
              "function _uploadFilesContinue(outputId) {\n",
              "  const outputElement = document.getElementById(outputId);\n",
              "  const steps = outputElement.steps;\n",
              "\n",
              "  const next = steps.next(outputElement.lastPromiseValue);\n",
              "  return Promise.resolve(next.value.promise).then((value) => {\n",
              "    // Cache the last promise value to make it available to the next\n",
              "    // step of the generator.\n",
              "    outputElement.lastPromiseValue = value;\n",
              "    return next.value.response;\n",
              "  });\n",
              "}\n",
              "\n",
              "/**\n",
              " * Generator function which is called between each async step of the upload\n",
              " * process.\n",
              " * @param {string} inputId Element ID of the input file picker element.\n",
              " * @param {string} outputId Element ID of the output display.\n",
              " * @return {!Iterable<!Object>} Iterable of next steps.\n",
              " */\n",
              "function* uploadFilesStep(inputId, outputId) {\n",
              "  const inputElement = document.getElementById(inputId);\n",
              "  inputElement.disabled = false;\n",
              "\n",
              "  const outputElement = document.getElementById(outputId);\n",
              "  outputElement.innerHTML = '';\n",
              "\n",
              "  const pickedPromise = new Promise((resolve) => {\n",
              "    inputElement.addEventListener('change', (e) => {\n",
              "      resolve(e.target.files);\n",
              "    });\n",
              "  });\n",
              "\n",
              "  const cancel = document.createElement('button');\n",
              "  inputElement.parentElement.appendChild(cancel);\n",
              "  cancel.textContent = 'Cancel upload';\n",
              "  const cancelPromise = new Promise((resolve) => {\n",
              "    cancel.onclick = () => {\n",
              "      resolve(null);\n",
              "    };\n",
              "  });\n",
              "\n",
              "  // Wait for the user to pick the files.\n",
              "  const files = yield {\n",
              "    promise: Promise.race([pickedPromise, cancelPromise]),\n",
              "    response: {\n",
              "      action: 'starting',\n",
              "    }\n",
              "  };\n",
              "\n",
              "  cancel.remove();\n",
              "\n",
              "  // Disable the input element since further picks are not allowed.\n",
              "  inputElement.disabled = true;\n",
              "\n",
              "  if (!files) {\n",
              "    return {\n",
              "      response: {\n",
              "        action: 'complete',\n",
              "      }\n",
              "    };\n",
              "  }\n",
              "\n",
              "  for (const file of files) {\n",
              "    const li = document.createElement('li');\n",
              "    li.append(span(file.name, {fontWeight: 'bold'}));\n",
              "    li.append(span(\n",
              "        `(${file.type || 'n/a'}) - ${file.size} bytes, ` +\n",
              "        `last modified: ${\n",
              "            file.lastModifiedDate ? file.lastModifiedDate.toLocaleDateString() :\n",
              "                                    'n/a'} - `));\n",
              "    const percent = span('0% done');\n",
              "    li.appendChild(percent);\n",
              "\n",
              "    outputElement.appendChild(li);\n",
              "\n",
              "    const fileDataPromise = new Promise((resolve) => {\n",
              "      const reader = new FileReader();\n",
              "      reader.onload = (e) => {\n",
              "        resolve(e.target.result);\n",
              "      };\n",
              "      reader.readAsArrayBuffer(file);\n",
              "    });\n",
              "    // Wait for the data to be ready.\n",
              "    let fileData = yield {\n",
              "      promise: fileDataPromise,\n",
              "      response: {\n",
              "        action: 'continue',\n",
              "      }\n",
              "    };\n",
              "\n",
              "    // Use a chunked sending to avoid message size limits. See b/62115660.\n",
              "    let position = 0;\n",
              "    do {\n",
              "      const length = Math.min(fileData.byteLength - position, MAX_PAYLOAD_SIZE);\n",
              "      const chunk = new Uint8Array(fileData, position, length);\n",
              "      position += length;\n",
              "\n",
              "      const base64 = btoa(String.fromCharCode.apply(null, chunk));\n",
              "      yield {\n",
              "        response: {\n",
              "          action: 'append',\n",
              "          file: file.name,\n",
              "          data: base64,\n",
              "        },\n",
              "      };\n",
              "\n",
              "      let percentDone = fileData.byteLength === 0 ?\n",
              "          100 :\n",
              "          Math.round((position / fileData.byteLength) * 100);\n",
              "      percent.textContent = `${percentDone}% done`;\n",
              "\n",
              "    } while (position < fileData.byteLength);\n",
              "  }\n",
              "\n",
              "  // All done.\n",
              "  yield {\n",
              "    response: {\n",
              "      action: 'complete',\n",
              "    }\n",
              "  };\n",
              "}\n",
              "\n",
              "scope.google = scope.google || {};\n",
              "scope.google.colab = scope.google.colab || {};\n",
              "scope.google.colab._files = {\n",
              "  _uploadFiles,\n",
              "  _uploadFilesContinue,\n",
              "};\n",
              "})(self);\n",
              "</script> "
            ]
          },
          "metadata": {}
        },
        {
          "output_type": "stream",
          "name": "stdout",
          "text": [
            "Saving airports.csv to airports (1).csv\n",
            "Saving flights_small.csv to flights_small.csv\n",
            "Saving planes.csv to planes.csv\n"
          ]
        }
      ]
    },
    {
      "cell_type": "code",
      "source": [
        "\n",
        "airports = spark.read.csv('airports.csv', header=True, inferSchema=True)\n",
        "airports.show(5)\n",
        "airports.printSchema()\n",
        "\n",
        "flights = spark.read.csv('flights_small.csv', header=True, inferSchema=True)\n",
        "flights.show(5)\n",
        "flights.printSchema()\n",
        "\n",
        "planes = spark.read.csv('planes.csv', header=True, inferSchema=True)\n",
        "planes.show(5)\n",
        "planes.printSchema()\n"
      ],
      "metadata": {
        "colab": {
          "base_uri": "https://localhost:8080/"
        },
        "id": "_UWfnwUUyIMW",
        "outputId": "2755725d-f7bb-43bf-a8db-65e25115eb92"
      },
      "execution_count": null,
      "outputs": [
        {
          "output_type": "stream",
          "name": "stdout",
          "text": [
            "+---+--------------------+----------+-----------+----+---+---+\n",
            "|faa|                name|       lat|        lon| alt| tz|dst|\n",
            "+---+--------------------+----------+-----------+----+---+---+\n",
            "|04G|   Lansdowne Airport|41.1304722|-80.6195833|1044| -5|  A|\n",
            "|06A|Moton Field Munic...|32.4605722|-85.6800278| 264| -5|  A|\n",
            "|06C| Schaumburg Regional|41.9893408|-88.1012428| 801| -6|  A|\n",
            "|06N|     Randall Airport| 41.431912|-74.3915611| 523| -5|  A|\n",
            "|09J|Jekyll Island Air...|31.0744722|-81.4277778|  11| -4|  A|\n",
            "+---+--------------------+----------+-----------+----+---+---+\n",
            "only showing top 5 rows\n",
            "\n",
            "root\n",
            " |-- faa: string (nullable = true)\n",
            " |-- name: string (nullable = true)\n",
            " |-- lat: double (nullable = true)\n",
            " |-- lon: double (nullable = true)\n",
            " |-- alt: integer (nullable = true)\n",
            " |-- tz: integer (nullable = true)\n",
            " |-- dst: string (nullable = true)\n",
            "\n",
            "+----+-----+---+--------+---------+--------+---------+-------+-------+------+------+----+--------+--------+----+------+\n",
            "|year|month|day|dep_time|dep_delay|arr_time|arr_delay|carrier|tailnum|flight|origin|dest|air_time|distance|hour|minute|\n",
            "+----+-----+---+--------+---------+--------+---------+-------+-------+------+------+----+--------+--------+----+------+\n",
            "|2014|   12|  8|     658|       -7|     935|       -5|     VX| N846VA|  1780|   SEA| LAX|     132|     954|   6|    58|\n",
            "|2014|    1| 22|    1040|        5|    1505|        5|     AS| N559AS|   851|   SEA| HNL|     360|    2677|  10|    40|\n",
            "|2014|    3|  9|    1443|       -2|    1652|        2|     VX| N847VA|   755|   SEA| SFO|     111|     679|  14|    43|\n",
            "|2014|    4|  9|    1705|       45|    1839|       34|     WN| N360SW|   344|   PDX| SJC|      83|     569|  17|     5|\n",
            "|2014|    3|  9|     754|       -1|    1015|        1|     AS| N612AS|   522|   SEA| BUR|     127|     937|   7|    54|\n",
            "+----+-----+---+--------+---------+--------+---------+-------+-------+------+------+----+--------+--------+----+------+\n",
            "only showing top 5 rows\n",
            "\n",
            "root\n",
            " |-- year: integer (nullable = true)\n",
            " |-- month: integer (nullable = true)\n",
            " |-- day: integer (nullable = true)\n",
            " |-- dep_time: string (nullable = true)\n",
            " |-- dep_delay: string (nullable = true)\n",
            " |-- arr_time: string (nullable = true)\n",
            " |-- arr_delay: string (nullable = true)\n",
            " |-- carrier: string (nullable = true)\n",
            " |-- tailnum: string (nullable = true)\n",
            " |-- flight: integer (nullable = true)\n",
            " |-- origin: string (nullable = true)\n",
            " |-- dest: string (nullable = true)\n",
            " |-- air_time: string (nullable = true)\n",
            " |-- distance: integer (nullable = true)\n",
            " |-- hour: string (nullable = true)\n",
            " |-- minute: string (nullable = true)\n",
            "\n",
            "+-------+----+--------------------+----------------+--------+-------+-----+-----+---------+\n",
            "|tailnum|year|                type|    manufacturer|   model|engines|seats|speed|   engine|\n",
            "+-------+----+--------------------+----------------+--------+-------+-----+-----+---------+\n",
            "| N102UW|1998|Fixed wing multi ...|AIRBUS INDUSTRIE|A320-214|      2|  182|   NA|Turbo-fan|\n",
            "| N103US|1999|Fixed wing multi ...|AIRBUS INDUSTRIE|A320-214|      2|  182|   NA|Turbo-fan|\n",
            "| N104UW|1999|Fixed wing multi ...|AIRBUS INDUSTRIE|A320-214|      2|  182|   NA|Turbo-fan|\n",
            "| N105UW|1999|Fixed wing multi ...|AIRBUS INDUSTRIE|A320-214|      2|  182|   NA|Turbo-fan|\n",
            "| N107US|1999|Fixed wing multi ...|AIRBUS INDUSTRIE|A320-214|      2|  182|   NA|Turbo-fan|\n",
            "+-------+----+--------------------+----------------+--------+-------+-----+-----+---------+\n",
            "only showing top 5 rows\n",
            "\n",
            "root\n",
            " |-- tailnum: string (nullable = true)\n",
            " |-- year: string (nullable = true)\n",
            " |-- type: string (nullable = true)\n",
            " |-- manufacturer: string (nullable = true)\n",
            " |-- model: string (nullable = true)\n",
            " |-- engines: integer (nullable = true)\n",
            " |-- seats: integer (nullable = true)\n",
            " |-- speed: string (nullable = true)\n",
            " |-- engine: string (nullable = true)\n",
            "\n"
          ]
        }
      ]
    },
    {
      "cell_type": "markdown",
      "source": [],
      "metadata": {
        "id": "7tK95TF5uacU"
      }
    },
    {
      "cell_type": "code",
      "source": [
        "airports = spark.read.csv('airports.csv', header=True)\n",
        "airports.show()\n"
      ],
      "metadata": {
        "colab": {
          "base_uri": "https://localhost:8080/"
        },
        "id": "QWmSZsWyua8E",
        "outputId": "1b5817c7-4efe-403e-871b-48bbe9a695ac"
      },
      "execution_count": null,
      "outputs": [
        {
          "output_type": "stream",
          "name": "stdout",
          "text": [
            "+---+--------------------+----------------+-----------------+----+---+---+\n",
            "|faa|                name|             lat|              lon| alt| tz|dst|\n",
            "+---+--------------------+----------------+-----------------+----+---+---+\n",
            "|04G|   Lansdowne Airport|      41.1304722|      -80.6195833|1044| -5|  A|\n",
            "|06A|Moton Field Munic...|      32.4605722|      -85.6800278| 264| -5|  A|\n",
            "|06C| Schaumburg Regional|      41.9893408|      -88.1012428| 801| -6|  A|\n",
            "|06N|     Randall Airport|       41.431912|      -74.3915611| 523| -5|  A|\n",
            "|09J|Jekyll Island Air...|      31.0744722|      -81.4277778|  11| -4|  A|\n",
            "|0A9|Elizabethton Muni...|      36.3712222|      -82.1734167|1593| -4|  A|\n",
            "|0G6|Williams County A...|      41.4673056|      -84.5067778| 730| -5|  A|\n",
            "|0G7|Finger Lakes Regi...|      42.8835647|      -76.7812318| 492| -5|  A|\n",
            "|0P2|Shoestring Aviati...|      39.7948244|      -76.6471914|1000| -5|  U|\n",
            "|0S9|Jefferson County ...|      48.0538086|     -122.8106436| 108| -8|  A|\n",
            "|0W3|Harford County Ai...|      39.5668378|      -76.2024028| 409| -5|  A|\n",
            "|10C|  Galt Field Airport|      42.4028889|      -88.3751111| 875| -6|  U|\n",
            "|17G|Port Bucyrus-Craw...|      40.7815556|      -82.9748056|1003| -5|  A|\n",
            "|19A|Jackson County Ai...|      34.1758638|      -83.5615972| 951| -4|  U|\n",
            "|1A3|Martin Campbell F...|      35.0158056|      -84.3468333|1789| -4|  A|\n",
            "|1B9| Mansfield Municipal|      42.0001331|      -71.1967714| 122| -5|  A|\n",
            "|1C9|Frazier Lake Airpark|54.0133333333333|-124.768333333333| 152| -8|  A|\n",
            "|1CS|Clow Internationa...|      41.6959744|      -88.1292306| 670| -6|  U|\n",
            "|1G3|  Kent State Airport|      41.1513889|      -81.4151111|1134| -4|  A|\n",
            "|1OH|     Fortman Airport|      40.5553253|      -84.3866186| 885| -5|  U|\n",
            "+---+--------------------+----------------+-----------------+----+---+---+\n",
            "only showing top 20 rows\n",
            "\n"
          ]
        }
      ]
    },
    {
      "cell_type": "code",
      "source": [
        "type(airports)"
      ],
      "metadata": {
        "execution": {
          "iopub.status.busy": "2022-10-04T18:37:04.910011Z",
          "iopub.execute_input": "2022-10-04T18:37:04.91049Z",
          "iopub.status.idle": "2022-10-04T18:37:04.927911Z",
          "shell.execute_reply.started": "2022-10-04T18:37:04.910443Z",
          "shell.execute_reply": "2022-10-04T18:37:04.92623Z"
        },
        "trusted": true,
        "id": "zAZsjdxRsaDL",
        "colab": {
          "base_uri": "https://localhost:8080/",
          "height": 187
        },
        "outputId": "5e7d23bf-52d7-4c2b-dbdb-5bf0e24eb4bc"
      },
      "execution_count": null,
      "outputs": [
        {
          "output_type": "execute_result",
          "data": {
            "text/plain": [
              "pyspark.sql.dataframe.DataFrame"
            ],
            "text/html": [
              "<div style=\"max-width:800px; border: 1px solid var(--colab-border-color);\"><style>\n",
              "      pre.function-repr-contents {\n",
              "        overflow-x: auto;\n",
              "        padding: 8px 12px;\n",
              "        max-height: 500px;\n",
              "      }\n",
              "\n",
              "      pre.function-repr-contents.function-repr-contents-collapsed {\n",
              "        cursor: pointer;\n",
              "        max-height: 100px;\n",
              "      }\n",
              "    </style>\n",
              "    <pre style=\"white-space: initial; background:\n",
              "         var(--colab-secondary-surface-color); padding: 8px 12px;\n",
              "         border-bottom: 1px solid var(--colab-border-color);\"><b>pyspark.sql.dataframe.DataFrame</b><br/>def __init__(jdf: JavaObject, sql_ctx: Union[&#x27;SQLContext&#x27;, &#x27;SparkSession&#x27;])</pre><pre class=\"function-repr-contents function-repr-contents-collapsed\" style=\"\"><a class=\"filepath\" style=\"display:none\" href=\"#\">/usr/local/lib/python3.11/dist-packages/pyspark/sql/dataframe.py</a>A distributed collection of data grouped into named columns.\n",
              "\n",
              ".. versionadded:: 1.3.0\n",
              "\n",
              ".. versionchanged:: 3.4.0\n",
              "    Supports Spark Connect.\n",
              "\n",
              "Examples\n",
              "--------\n",
              "A :class:`DataFrame` is equivalent to a relational table in Spark SQL,\n",
              "and can be created using various functions in :class:`SparkSession`:\n",
              "\n",
              "&gt;&gt;&gt; people = spark.createDataFrame([\n",
              "...     {&quot;deptId&quot;: 1, &quot;age&quot;: 40, &quot;name&quot;: &quot;Hyukjin Kwon&quot;, &quot;gender&quot;: &quot;M&quot;, &quot;salary&quot;: 50},\n",
              "...     {&quot;deptId&quot;: 1, &quot;age&quot;: 50, &quot;name&quot;: &quot;Takuya Ueshin&quot;, &quot;gender&quot;: &quot;M&quot;, &quot;salary&quot;: 100},\n",
              "...     {&quot;deptId&quot;: 2, &quot;age&quot;: 60, &quot;name&quot;: &quot;Xinrong Meng&quot;, &quot;gender&quot;: &quot;F&quot;, &quot;salary&quot;: 150},\n",
              "...     {&quot;deptId&quot;: 3, &quot;age&quot;: 20, &quot;name&quot;: &quot;Haejoon Lee&quot;, &quot;gender&quot;: &quot;M&quot;, &quot;salary&quot;: 200}\n",
              "... ])\n",
              "\n",
              "Once created, it can be manipulated using the various domain-specific-language\n",
              "(DSL) functions defined in: :class:`DataFrame`, :class:`Column`.\n",
              "\n",
              "To select a column from the :class:`DataFrame`, use the apply method:\n",
              "\n",
              "&gt;&gt;&gt; age_col = people.age\n",
              "\n",
              "A more concrete example:\n",
              "\n",
              "&gt;&gt;&gt; # To create DataFrame using SparkSession\n",
              "... department = spark.createDataFrame([\n",
              "...     {&quot;id&quot;: 1, &quot;name&quot;: &quot;PySpark&quot;},\n",
              "...     {&quot;id&quot;: 2, &quot;name&quot;: &quot;ML&quot;},\n",
              "...     {&quot;id&quot;: 3, &quot;name&quot;: &quot;Spark SQL&quot;}\n",
              "... ])\n",
              "\n",
              "&gt;&gt;&gt; people.filter(people.age &gt; 30).join(\n",
              "...     department, people.deptId == department.id).groupBy(\n",
              "...     department.name, &quot;gender&quot;).agg({&quot;salary&quot;: &quot;avg&quot;, &quot;age&quot;: &quot;max&quot;}).show()\n",
              "+-------+------+-----------+--------+\n",
              "|   name|gender|avg(salary)|max(age)|\n",
              "+-------+------+-----------+--------+\n",
              "|     ML|     F|      150.0|      60|\n",
              "|PySpark|     M|       75.0|      50|\n",
              "+-------+------+-----------+--------+\n",
              "\n",
              "Notes\n",
              "-----\n",
              "A DataFrame should only be created as described above. It should not be directly\n",
              "created via using the constructor.</pre>\n",
              "      <script>\n",
              "      if (google.colab.kernel.accessAllowed && google.colab.files && google.colab.files.view) {\n",
              "        for (const element of document.querySelectorAll('.filepath')) {\n",
              "          element.style.display = 'block'\n",
              "          element.onclick = (event) => {\n",
              "            event.preventDefault();\n",
              "            event.stopPropagation();\n",
              "            google.colab.files.view(element.textContent, 80);\n",
              "          };\n",
              "        }\n",
              "      }\n",
              "      for (const element of document.querySelectorAll('.function-repr-contents')) {\n",
              "        element.onclick = (event) => {\n",
              "          event.preventDefault();\n",
              "          event.stopPropagation();\n",
              "          element.classList.toggle('function-repr-contents-collapsed');\n",
              "        };\n",
              "      }\n",
              "      </script>\n",
              "      </div>"
            ]
          },
          "metadata": {},
          "execution_count": 11
        }
      ]
    },
    {
      "cell_type": "code",
      "source": [
        "spark.catalog.listDatabases()"
      ],
      "metadata": {
        "execution": {
          "iopub.status.busy": "2022-10-04T18:37:04.930593Z",
          "iopub.execute_input": "2022-10-04T18:37:04.931522Z",
          "iopub.status.idle": "2022-10-04T18:37:05.24872Z",
          "shell.execute_reply.started": "2022-10-04T18:37:04.931469Z",
          "shell.execute_reply": "2022-10-04T18:37:05.247373Z"
        },
        "trusted": true,
        "id": "tnW5O02LsaDL",
        "colab": {
          "base_uri": "https://localhost:8080/"
        },
        "outputId": "0fbbcfee-799d-4482-9b06-0f70e9af9179"
      },
      "execution_count": null,
      "outputs": [
        {
          "output_type": "execute_result",
          "data": {
            "text/plain": [
              "[Database(name='default', catalog='spark_catalog', description='default database', locationUri='file:/content/spark-warehouse')]"
            ]
          },
          "metadata": {},
          "execution_count": 12
        }
      ]
    },
    {
      "cell_type": "code",
      "source": [
        "spark.catalog.listTables()"
      ],
      "metadata": {
        "execution": {
          "iopub.status.busy": "2022-10-04T18:37:05.250103Z",
          "iopub.execute_input": "2022-10-04T18:37:05.250587Z",
          "iopub.status.idle": "2022-10-04T18:37:05.463671Z",
          "shell.execute_reply.started": "2022-10-04T18:37:05.250538Z",
          "shell.execute_reply": "2022-10-04T18:37:05.462305Z"
        },
        "trusted": true,
        "id": "iVl2ehegsaDM",
        "colab": {
          "base_uri": "https://localhost:8080/"
        },
        "outputId": "cef4d225-b433-4aa0-8e0a-c77561b09f11"
      },
      "execution_count": null,
      "outputs": [
        {
          "output_type": "execute_result",
          "data": {
            "text/plain": [
              "[Table(name='temp', catalog=None, namespace=[], description=None, tableType='TEMPORARY', isTemporary=True)]"
            ]
          },
          "metadata": {},
          "execution_count": 13
        }
      ]
    },
    {
      "cell_type": "code",
      "source": [
        "flights = spark.read.csv('airports.csv', header=True)\n",
        "flights.show()\n"
      ],
      "metadata": {
        "execution": {
          "iopub.status.busy": "2022-10-04T18:37:05.468866Z",
          "iopub.execute_input": "2022-10-04T18:37:05.4694Z",
          "iopub.status.idle": "2022-10-04T18:37:06.065131Z",
          "shell.execute_reply.started": "2022-10-04T18:37:05.469352Z",
          "shell.execute_reply": "2022-10-04T18:37:06.063688Z"
        },
        "trusted": true,
        "id": "AUjpIt-osaDM",
        "colab": {
          "base_uri": "https://localhost:8080/"
        },
        "outputId": "a1fed7b9-69ee-4bb5-d16e-73953a665a7d"
      },
      "execution_count": null,
      "outputs": [
        {
          "output_type": "stream",
          "name": "stdout",
          "text": [
            "+---+--------------------+----------------+-----------------+----+---+---+\n",
            "|faa|                name|             lat|              lon| alt| tz|dst|\n",
            "+---+--------------------+----------------+-----------------+----+---+---+\n",
            "|04G|   Lansdowne Airport|      41.1304722|      -80.6195833|1044| -5|  A|\n",
            "|06A|Moton Field Munic...|      32.4605722|      -85.6800278| 264| -5|  A|\n",
            "|06C| Schaumburg Regional|      41.9893408|      -88.1012428| 801| -6|  A|\n",
            "|06N|     Randall Airport|       41.431912|      -74.3915611| 523| -5|  A|\n",
            "|09J|Jekyll Island Air...|      31.0744722|      -81.4277778|  11| -4|  A|\n",
            "|0A9|Elizabethton Muni...|      36.3712222|      -82.1734167|1593| -4|  A|\n",
            "|0G6|Williams County A...|      41.4673056|      -84.5067778| 730| -5|  A|\n",
            "|0G7|Finger Lakes Regi...|      42.8835647|      -76.7812318| 492| -5|  A|\n",
            "|0P2|Shoestring Aviati...|      39.7948244|      -76.6471914|1000| -5|  U|\n",
            "|0S9|Jefferson County ...|      48.0538086|     -122.8106436| 108| -8|  A|\n",
            "|0W3|Harford County Ai...|      39.5668378|      -76.2024028| 409| -5|  A|\n",
            "|10C|  Galt Field Airport|      42.4028889|      -88.3751111| 875| -6|  U|\n",
            "|17G|Port Bucyrus-Craw...|      40.7815556|      -82.9748056|1003| -5|  A|\n",
            "|19A|Jackson County Ai...|      34.1758638|      -83.5615972| 951| -4|  U|\n",
            "|1A3|Martin Campbell F...|      35.0158056|      -84.3468333|1789| -4|  A|\n",
            "|1B9| Mansfield Municipal|      42.0001331|      -71.1967714| 122| -5|  A|\n",
            "|1C9|Frazier Lake Airpark|54.0133333333333|-124.768333333333| 152| -8|  A|\n",
            "|1CS|Clow Internationa...|      41.6959744|      -88.1292306| 670| -6|  U|\n",
            "|1G3|  Kent State Airport|      41.1513889|      -81.4151111|1134| -4|  A|\n",
            "|1OH|     Fortman Airport|      40.5553253|      -84.3866186| 885| -5|  U|\n",
            "+---+--------------------+----------------+-----------------+----+---+---+\n",
            "only showing top 20 rows\n",
            "\n"
          ]
        }
      ]
    },
    {
      "cell_type": "code",
      "source": [
        "from pyspark.sql.functions import col\n",
        "\n",
        "flights = flights.withColumn('duration_hrs', col('air_time').cast('float') / 60)\n",
        "flights.show()\n"
      ],
      "metadata": {
        "colab": {
          "base_uri": "https://localhost:8080/"
        },
        "id": "qFCgVuvixfhU",
        "outputId": "9051a8ea-59f9-4cc4-ab92-af2231618d00"
      },
      "execution_count": null,
      "outputs": [
        {
          "output_type": "stream",
          "name": "stdout",
          "text": [
            "+----+-----+---+--------+---------+--------+---------+-------+-------+------+------+----+--------+--------+----+------+------------------+\n",
            "|year|month|day|dep_time|dep_delay|arr_time|arr_delay|carrier|tailnum|flight|origin|dest|air_time|distance|hour|minute|      duration_hrs|\n",
            "+----+-----+---+--------+---------+--------+---------+-------+-------+------+------+----+--------+--------+----+------+------------------+\n",
            "|2014|   12|  8|     658|       -7|     935|       -5|     VX| N846VA|  1780|   SEA| LAX|     132|     954|   6|    58|               2.2|\n",
            "|2014|    1| 22|    1040|        5|    1505|        5|     AS| N559AS|   851|   SEA| HNL|     360|    2677|  10|    40|               6.0|\n",
            "|2014|    3|  9|    1443|       -2|    1652|        2|     VX| N847VA|   755|   SEA| SFO|     111|     679|  14|    43|              1.85|\n",
            "|2014|    4|  9|    1705|       45|    1839|       34|     WN| N360SW|   344|   PDX| SJC|      83|     569|  17|     5|1.3833333333333333|\n",
            "|2014|    3|  9|     754|       -1|    1015|        1|     AS| N612AS|   522|   SEA| BUR|     127|     937|   7|    54|2.1166666666666667|\n",
            "|2014|    1| 15|    1037|        7|    1352|        2|     WN| N646SW|    48|   PDX| DEN|     121|     991|  10|    37|2.0166666666666666|\n",
            "|2014|    7|  2|     847|       42|    1041|       51|     WN| N422WN|  1520|   PDX| OAK|      90|     543|   8|    47|               1.5|\n",
            "|2014|    5| 12|    1655|       -5|    1842|      -18|     VX| N361VA|   755|   SEA| SFO|      98|     679|  16|    55|1.6333333333333333|\n",
            "|2014|    4| 19|    1236|       -4|    1508|       -7|     AS| N309AS|   490|   SEA| SAN|     135|    1050|  12|    36|              2.25|\n",
            "|2014|   11| 19|    1812|       -3|    2352|       -4|     AS| N564AS|    26|   SEA| ORD|     198|    1721|  18|    12|               3.3|\n",
            "|2014|   11|  8|    1653|       -2|    1924|       -1|     AS| N323AS|   448|   SEA| LAX|     130|     954|  16|    53|2.1666666666666665|\n",
            "|2014|    8|  3|    1120|        0|    1415|        2|     AS| N305AS|   656|   SEA| PHX|     154|    1107|  11|    20| 2.566666666666667|\n",
            "|2014|   10| 30|     811|       21|    1038|       29|     AS| N433AS|   608|   SEA| LAS|     127|     867|   8|    11|2.1166666666666667|\n",
            "|2014|   11| 12|    2346|       -4|     217|      -28|     AS| N765AS|   121|   SEA| ANC|     183|    1448|  23|    46|              3.05|\n",
            "|2014|   10| 31|    1314|       89|    1544|      111|     AS| N713AS|   306|   SEA| SFO|     129|     679|  13|    14|              2.15|\n",
            "|2014|    1| 29|    2009|        3|    2159|        9|     UA| N27205|  1458|   PDX| SFO|      90|     550|  20|     9|               1.5|\n",
            "|2014|   12| 17|    2015|       50|    2150|       41|     AS| N626AS|   368|   SEA| SMF|      76|     605|  20|    15|1.2666666666666666|\n",
            "|2014|    8| 11|    1017|       -3|    1613|       -7|     WN| N8634A|   827|   SEA| MDW|     216|    1733|  10|    17|               3.6|\n",
            "|2014|    1| 13|    2156|       -9|     607|      -15|     AS| N597AS|    24|   SEA| BOS|     290|    2496|  21|    56| 4.833333333333333|\n",
            "|2014|    6|  5|    1733|      -12|    1945|      -10|     OO| N215AG|  3488|   PDX| BUR|     111|     817|  17|    33|              1.85|\n",
            "+----+-----+---+--------+---------+--------+---------+-------+-------+------+------+----+--------+--------+----+------+------------------+\n",
            "only showing top 20 rows\n",
            "\n"
          ]
        }
      ]
    },
    {
      "cell_type": "code",
      "source": [
        "selected_1 = flights.select('tailnum', 'origin', 'dest')\n",
        "selected_1.show()\n"
      ],
      "metadata": {
        "colab": {
          "base_uri": "https://localhost:8080/"
        },
        "id": "RWCVVmnfyd44",
        "outputId": "48462224-ec6a-4b30-8fb5-fceecdad8192"
      },
      "execution_count": null,
      "outputs": [
        {
          "output_type": "stream",
          "name": "stdout",
          "text": [
            "+-------+------+----+\n",
            "|tailnum|origin|dest|\n",
            "+-------+------+----+\n",
            "| N846VA|   SEA| LAX|\n",
            "| N559AS|   SEA| HNL|\n",
            "| N847VA|   SEA| SFO|\n",
            "| N360SW|   PDX| SJC|\n",
            "| N612AS|   SEA| BUR|\n",
            "| N646SW|   PDX| DEN|\n",
            "| N422WN|   PDX| OAK|\n",
            "| N361VA|   SEA| SFO|\n",
            "| N309AS|   SEA| SAN|\n",
            "| N564AS|   SEA| ORD|\n",
            "| N323AS|   SEA| LAX|\n",
            "| N305AS|   SEA| PHX|\n",
            "| N433AS|   SEA| LAS|\n",
            "| N765AS|   SEA| ANC|\n",
            "| N713AS|   SEA| SFO|\n",
            "| N27205|   PDX| SFO|\n",
            "| N626AS|   SEA| SMF|\n",
            "| N8634A|   SEA| MDW|\n",
            "| N597AS|   SEA| BOS|\n",
            "| N215AG|   PDX| BUR|\n",
            "+-------+------+----+\n",
            "only showing top 20 rows\n",
            "\n"
          ]
        }
      ]
    },
    {
      "cell_type": "code",
      "source": [
        "flights.name = flights.createOrReplaceTempView('flights')\n",
        "spark.catalog.listTables()"
      ],
      "metadata": {
        "execution": {
          "iopub.status.busy": "2022-10-04T18:37:06.069128Z",
          "iopub.execute_input": "2022-10-04T18:37:06.071712Z",
          "iopub.status.idle": "2022-10-04T18:37:06.298102Z",
          "shell.execute_reply.started": "2022-10-04T18:37:06.071649Z",
          "shell.execute_reply": "2022-10-04T18:37:06.296167Z"
        },
        "trusted": true,
        "id": "ra3-ljaFsaDM",
        "colab": {
          "base_uri": "https://localhost:8080/"
        },
        "outputId": "911b1848-3f0d-44b5-d286-549b5216e72f"
      },
      "execution_count": null,
      "outputs": [
        {
          "output_type": "execute_result",
          "data": {
            "text/plain": [
              "[Table(name='flights', catalog=None, namespace=[], description=None, tableType='TEMPORARY', isTemporary=True),\n",
              " Table(name='temp', catalog=None, namespace=[], description=None, tableType='TEMPORARY', isTemporary=True)]"
            ]
          },
          "metadata": {},
          "execution_count": 17
        }
      ]
    },
    {
      "cell_type": "code",
      "source": [
        "\n",
        "flights_df = spark.table('flights')\n",
        "print(flights_df.show())"
      ],
      "metadata": {
        "execution": {
          "iopub.status.busy": "2022-10-04T18:37:06.30252Z",
          "iopub.execute_input": "2022-10-04T18:37:06.303502Z",
          "iopub.status.idle": "2022-10-04T18:37:06.541702Z",
          "shell.execute_reply.started": "2022-10-04T18:37:06.303444Z",
          "shell.execute_reply": "2022-10-04T18:37:06.540533Z"
        },
        "trusted": true,
        "id": "smYIcCbnsaDM",
        "colab": {
          "base_uri": "https://localhost:8080/"
        },
        "outputId": "ec2ccb19-7398-41cb-ae11-214fb825f2e6"
      },
      "execution_count": null,
      "outputs": [
        {
          "output_type": "stream",
          "name": "stdout",
          "text": [
            "+---+--------------------+----------------+-----------------+----+---+---+\n",
            "|faa|                name|             lat|              lon| alt| tz|dst|\n",
            "+---+--------------------+----------------+-----------------+----+---+---+\n",
            "|04G|   Lansdowne Airport|      41.1304722|      -80.6195833|1044| -5|  A|\n",
            "|06A|Moton Field Munic...|      32.4605722|      -85.6800278| 264| -5|  A|\n",
            "|06C| Schaumburg Regional|      41.9893408|      -88.1012428| 801| -6|  A|\n",
            "|06N|     Randall Airport|       41.431912|      -74.3915611| 523| -5|  A|\n",
            "|09J|Jekyll Island Air...|      31.0744722|      -81.4277778|  11| -4|  A|\n",
            "|0A9|Elizabethton Muni...|      36.3712222|      -82.1734167|1593| -4|  A|\n",
            "|0G6|Williams County A...|      41.4673056|      -84.5067778| 730| -5|  A|\n",
            "|0G7|Finger Lakes Regi...|      42.8835647|      -76.7812318| 492| -5|  A|\n",
            "|0P2|Shoestring Aviati...|      39.7948244|      -76.6471914|1000| -5|  U|\n",
            "|0S9|Jefferson County ...|      48.0538086|     -122.8106436| 108| -8|  A|\n",
            "|0W3|Harford County Ai...|      39.5668378|      -76.2024028| 409| -5|  A|\n",
            "|10C|  Galt Field Airport|      42.4028889|      -88.3751111| 875| -6|  U|\n",
            "|17G|Port Bucyrus-Craw...|      40.7815556|      -82.9748056|1003| -5|  A|\n",
            "|19A|Jackson County Ai...|      34.1758638|      -83.5615972| 951| -4|  U|\n",
            "|1A3|Martin Campbell F...|      35.0158056|      -84.3468333|1789| -4|  A|\n",
            "|1B9| Mansfield Municipal|      42.0001331|      -71.1967714| 122| -5|  A|\n",
            "|1C9|Frazier Lake Airpark|54.0133333333333|-124.768333333333| 152| -8|  A|\n",
            "|1CS|Clow Internationa...|      41.6959744|      -88.1292306| 670| -6|  U|\n",
            "|1G3|  Kent State Airport|      41.1513889|      -81.4151111|1134| -4|  A|\n",
            "|1OH|     Fortman Airport|      40.5553253|      -84.3866186| 885| -5|  U|\n",
            "+---+--------------------+----------------+-----------------+----+---+---+\n",
            "only showing top 20 rows\n",
            "\n",
            "None\n"
          ]
        }
      ]
    },
    {
      "cell_type": "code",
      "source": [
        " flights.printSchema()\n",
        "\n"
      ],
      "metadata": {
        "execution": {
          "iopub.status.busy": "2022-10-04T18:37:06.542928Z",
          "iopub.execute_input": "2022-10-04T18:37:06.543436Z",
          "iopub.status.idle": "2022-10-04T18:37:07.183439Z",
          "shell.execute_reply.started": "2022-10-04T18:37:06.543388Z",
          "shell.execute_reply": "2022-10-04T18:37:07.182164Z"
        },
        "trusted": true,
        "id": "xBLTpZPNsaDM",
        "colab": {
          "base_uri": "https://localhost:8080/"
        },
        "outputId": "724740f2-0974-4225-92a4-55b01a482c0c"
      },
      "execution_count": null,
      "outputs": [
        {
          "output_type": "stream",
          "name": "stdout",
          "text": [
            "root\n",
            " |-- faa: string (nullable = true)\n",
            " |-- name: string (nullable = true)\n",
            " |-- lat: string (nullable = true)\n",
            " |-- lon: string (nullable = true)\n",
            " |-- alt: string (nullable = true)\n",
            " |-- tz: string (nullable = true)\n",
            " |-- dst: string (nullable = true)\n",
            "\n"
          ]
        }
      ]
    },
    {
      "cell_type": "code",
      "source": [
        "flights.describe().show()"
      ],
      "metadata": {
        "execution": {
          "iopub.status.busy": "2022-10-04T18:41:35.349321Z",
          "iopub.execute_input": "2022-10-04T18:41:35.352509Z",
          "iopub.status.idle": "2022-10-04T18:41:38.209621Z",
          "shell.execute_reply.started": "2022-10-04T18:41:35.35242Z",
          "shell.execute_reply": "2022-10-04T18:41:38.208238Z"
        },
        "trusted": true,
        "id": "6kQTbY6WsaDM",
        "colab": {
          "base_uri": "https://localhost:8080/"
        },
        "outputId": "5626ebc1-823d-4daf-9f7f-a2f7a5f8a30a"
      },
      "execution_count": null,
      "outputs": [
        {
          "output_type": "stream",
          "name": "stdout",
          "text": [
            "+-------+------------------+--------------------+------------------+------------------+------------------+------------------+----+\n",
            "|summary|               faa|                name|               lat|               lon|               alt|                tz| dst|\n",
            "+-------+------------------+--------------------+------------------+------------------+------------------+------------------+----+\n",
            "|  count|              1397|                1397|              1397|              1397|              1397|              1397|1397|\n",
            "|   mean|             141.0|                NULL| 41.75029635989892|-103.6891285724532|1005.9169649248389|-6.420901932712956|NULL|\n",
            "| stddev|197.46392075515973|                NULL|10.549872185047212|30.125313702028542|1521.2701426664623|1.8244027290430729|NULL|\n",
            "|    min|               04G|Aberdeen Regional...|         19.721375|          -100.286|               -42|               -10|   A|\n",
            "|    max|               ZYP|Zamperini Field A...|         72.270833|         42.898333|               996|                 8|   U|\n",
            "+-------+------------------+--------------------+------------------+------------------+------------------+------------------+----+\n",
            "\n"
          ]
        }
      ]
    },
    {
      "cell_type": "code",
      "source": [
        "from pyspark.sql.functions import col\n",
        "\n",
        "long_flights1 = flights.filter(col('alt').cast('int') > 1000)\n",
        "long_flights1.show()\n"
      ],
      "metadata": {
        "execution": {
          "iopub.status.busy": "2022-09-23T19:34:51.849545Z",
          "iopub.execute_input": "2022-09-23T19:34:51.849945Z",
          "iopub.status.idle": "2022-09-23T19:34:52.122581Z",
          "shell.execute_reply.started": "2022-09-23T19:34:51.849913Z",
          "shell.execute_reply": "2022-09-23T19:34:52.121667Z"
        },
        "trusted": true,
        "id": "uNt65Be-saDM",
        "colab": {
          "base_uri": "https://localhost:8080/"
        },
        "outputId": "6bf0fa8d-bfb4-4dd7-b12c-1d75b8126f9c"
      },
      "execution_count": null,
      "outputs": [
        {
          "output_type": "stream",
          "name": "stdout",
          "text": [
            "+---+--------------------+--------------+-----------------+----+---+---+\n",
            "|faa|                name|           lat|              lon| alt| tz|dst|\n",
            "+---+--------------------+--------------+-----------------+----+---+---+\n",
            "|04G|   Lansdowne Airport|    41.1304722|      -80.6195833|1044| -5|  A|\n",
            "|0A9|Elizabethton Muni...|    36.3712222|      -82.1734167|1593| -4|  A|\n",
            "|17G|Port Bucyrus-Craw...|    40.7815556|      -82.9748056|1003| -5|  A|\n",
            "|1A3|Martin Campbell F...|    35.0158056|      -84.3468333|1789| -4|  A|\n",
            "|1G3|  Kent State Airport|    41.1513889|      -81.4151111|1134| -4|  A|\n",
            "|29D|  Grove City Airport|    41.1460278|        -80.16775|1371| -5|  A|\n",
            "|2G2|Jefferson County ...|    40.3602179|      -80.7008742|1196| -4|  A|\n",
            "|2G9|Somerset County A...|    40.0388708|      -79.0149951|2275| -5|  A|\n",
            "|36U|Heber City Munici...|    40.4818056|     -111.4288056|5637| -6|  A|\n",
            "|3G4|Ashland County Ai...|    40.9029722|      -82.2556389|1206| -5|  A|\n",
            "|47A|Cherokee County A...|    34.3122175|      -84.4221556|1219| -4|  A|\n",
            "|49A|Gilmer County Air...|    34.6282222|      -84.5265833|1486| -4|  A|\n",
            "|4G0|Pittsburgh-Monroe...|    40.4526389|      -79.7749167|1187| -5|  A|\n",
            "|4G4|Youngstown Elser ...|    40.9617953|      -80.6773264|1070| -5|  A|\n",
            "|4U9|   Dell Flight Strip|    44.7357483|     -112.7200133|6007| -7|  A|\n",
            "|6K8|Tok Junction Airport|     63.329444|      -142.953611|1639| -9|  A|\n",
            "|6S0|  Big Timber Airport|    45.8063889|     -109.9811111|4492| -7|  A|\n",
            "|70N| Spring Hill Airport|    41.3473569|      -75.4158972|1729| -5|  A|\n",
            "|8M8|     Garland Airport|    44.8065278|      -84.2761944|1218| -5|  A|\n",
            "|A39|Phoenix Regional ...|32.99169921875|-111.920997619629|1300| -7|  A|\n",
            "+---+--------------------+--------------+-----------------+----+---+---+\n",
            "only showing top 20 rows\n",
            "\n"
          ]
        }
      ]
    },
    {
      "cell_type": "markdown",
      "source": [],
      "metadata": {
        "id": "AXns9o6Qv36H"
      }
    },
    {
      "cell_type": "code",
      "source": [
        "flights.printSchema()\n"
      ],
      "metadata": {
        "colab": {
          "base_uri": "https://localhost:8080/"
        },
        "id": "inwo8cf-v4Sk",
        "outputId": "9b27b3b5-6ed8-4601-f959-241fa4e5c9a2"
      },
      "execution_count": null,
      "outputs": [
        {
          "output_type": "stream",
          "name": "stdout",
          "text": [
            "root\n",
            " |-- faa: string (nullable = true)\n",
            " |-- name: string (nullable = true)\n",
            " |-- lat: string (nullable = true)\n",
            " |-- lon: string (nullable = true)\n",
            " |-- alt: string (nullable = true)\n",
            " |-- tz: string (nullable = true)\n",
            " |-- dst: string (nullable = true)\n",
            "\n"
          ]
        }
      ]
    },
    {
      "cell_type": "code",
      "source": [
        "from pyspark.sql.functions import col\n",
        "\n",
        "long_flights2 = flights.filter(col('alt').cast('int') > 1000)\n",
        "long_flights2.show()\n"
      ],
      "metadata": {
        "execution": {
          "iopub.status.busy": "2022-09-23T19:34:52.864048Z",
          "iopub.execute_input": "2022-09-23T19:34:52.864418Z",
          "iopub.status.idle": "2022-09-23T19:34:53.124354Z",
          "shell.execute_reply.started": "2022-09-23T19:34:52.86439Z",
          "shell.execute_reply": "2022-09-23T19:34:53.123501Z"
        },
        "trusted": true,
        "id": "D_vWg2IesaDN",
        "colab": {
          "base_uri": "https://localhost:8080/"
        },
        "outputId": "ffdf3dab-29fb-4c0d-9695-fdfcbcbae18c"
      },
      "execution_count": null,
      "outputs": [
        {
          "output_type": "stream",
          "name": "stdout",
          "text": [
            "+---+--------------------+--------------+-----------------+----+---+---+\n",
            "|faa|                name|           lat|              lon| alt| tz|dst|\n",
            "+---+--------------------+--------------+-----------------+----+---+---+\n",
            "|04G|   Lansdowne Airport|    41.1304722|      -80.6195833|1044| -5|  A|\n",
            "|0A9|Elizabethton Muni...|    36.3712222|      -82.1734167|1593| -4|  A|\n",
            "|17G|Port Bucyrus-Craw...|    40.7815556|      -82.9748056|1003| -5|  A|\n",
            "|1A3|Martin Campbell F...|    35.0158056|      -84.3468333|1789| -4|  A|\n",
            "|1G3|  Kent State Airport|    41.1513889|      -81.4151111|1134| -4|  A|\n",
            "|29D|  Grove City Airport|    41.1460278|        -80.16775|1371| -5|  A|\n",
            "|2G2|Jefferson County ...|    40.3602179|      -80.7008742|1196| -4|  A|\n",
            "|2G9|Somerset County A...|    40.0388708|      -79.0149951|2275| -5|  A|\n",
            "|36U|Heber City Munici...|    40.4818056|     -111.4288056|5637| -6|  A|\n",
            "|3G4|Ashland County Ai...|    40.9029722|      -82.2556389|1206| -5|  A|\n",
            "|47A|Cherokee County A...|    34.3122175|      -84.4221556|1219| -4|  A|\n",
            "|49A|Gilmer County Air...|    34.6282222|      -84.5265833|1486| -4|  A|\n",
            "|4G0|Pittsburgh-Monroe...|    40.4526389|      -79.7749167|1187| -5|  A|\n",
            "|4G4|Youngstown Elser ...|    40.9617953|      -80.6773264|1070| -5|  A|\n",
            "|4U9|   Dell Flight Strip|    44.7357483|     -112.7200133|6007| -7|  A|\n",
            "|6K8|Tok Junction Airport|     63.329444|      -142.953611|1639| -9|  A|\n",
            "|6S0|  Big Timber Airport|    45.8063889|     -109.9811111|4492| -7|  A|\n",
            "|70N| Spring Hill Airport|    41.3473569|      -75.4158972|1729| -5|  A|\n",
            "|8M8|     Garland Airport|    44.8065278|      -84.2761944|1218| -5|  A|\n",
            "|A39|Phoenix Regional ...|32.99169921875|-111.920997619629|1300| -7|  A|\n",
            "+---+--------------------+--------------+-----------------+----+---+---+\n",
            "only showing top 20 rows\n",
            "\n"
          ]
        }
      ]
    },
    {
      "cell_type": "code",
      "source": [
        "selected_1 = flights.select('faa', 'name', 'lat', 'lon')\n",
        "selected_1.show()\n"
      ],
      "metadata": {
        "execution": {
          "iopub.status.busy": "2022-09-23T19:34:53.894444Z",
          "iopub.execute_input": "2022-09-23T19:34:53.894824Z",
          "iopub.status.idle": "2022-09-23T19:34:53.918375Z",
          "shell.execute_reply.started": "2022-09-23T19:34:53.894777Z",
          "shell.execute_reply": "2022-09-23T19:34:53.917446Z"
        },
        "trusted": true,
        "id": "us_4rVa7saDN",
        "colab": {
          "base_uri": "https://localhost:8080/"
        },
        "outputId": "c8be9a55-c68c-4439-8772-bd8510f89bd7"
      },
      "execution_count": null,
      "outputs": [
        {
          "output_type": "stream",
          "name": "stdout",
          "text": [
            "+---+--------------------+----------------+-----------------+\n",
            "|faa|                name|             lat|              lon|\n",
            "+---+--------------------+----------------+-----------------+\n",
            "|04G|   Lansdowne Airport|      41.1304722|      -80.6195833|\n",
            "|06A|Moton Field Munic...|      32.4605722|      -85.6800278|\n",
            "|06C| Schaumburg Regional|      41.9893408|      -88.1012428|\n",
            "|06N|     Randall Airport|       41.431912|      -74.3915611|\n",
            "|09J|Jekyll Island Air...|      31.0744722|      -81.4277778|\n",
            "|0A9|Elizabethton Muni...|      36.3712222|      -82.1734167|\n",
            "|0G6|Williams County A...|      41.4673056|      -84.5067778|\n",
            "|0G7|Finger Lakes Regi...|      42.8835647|      -76.7812318|\n",
            "|0P2|Shoestring Aviati...|      39.7948244|      -76.6471914|\n",
            "|0S9|Jefferson County ...|      48.0538086|     -122.8106436|\n",
            "|0W3|Harford County Ai...|      39.5668378|      -76.2024028|\n",
            "|10C|  Galt Field Airport|      42.4028889|      -88.3751111|\n",
            "|17G|Port Bucyrus-Craw...|      40.7815556|      -82.9748056|\n",
            "|19A|Jackson County Ai...|      34.1758638|      -83.5615972|\n",
            "|1A3|Martin Campbell F...|      35.0158056|      -84.3468333|\n",
            "|1B9| Mansfield Municipal|      42.0001331|      -71.1967714|\n",
            "|1C9|Frazier Lake Airpark|54.0133333333333|-124.768333333333|\n",
            "|1CS|Clow Internationa...|      41.6959744|      -88.1292306|\n",
            "|1G3|  Kent State Airport|      41.1513889|      -81.4151111|\n",
            "|1OH|     Fortman Airport|      40.5553253|      -84.3866186|\n",
            "+---+--------------------+----------------+-----------------+\n",
            "only showing top 20 rows\n",
            "\n"
          ]
        }
      ]
    },
    {
      "cell_type": "code",
      "source": [
        "# Select the second set of columns usinf df.col_name\n",
        "temp = flights.select(flights.origin, flights.dest, flights.carrier)\n",
        "temp.show()"
      ],
      "metadata": {
        "execution": {
          "iopub.status.busy": "2022-09-23T19:34:55.086569Z",
          "iopub.execute_input": "2022-09-23T19:34:55.087361Z",
          "iopub.status.idle": "2022-09-23T19:34:55.100721Z",
          "shell.execute_reply.started": "2022-09-23T19:34:55.087327Z",
          "shell.execute_reply": "2022-09-23T19:34:55.099754Z"
        },
        "trusted": true,
        "id": "PmZO-ZhgsaDN",
        "colab": {
          "base_uri": "https://localhost:8080/"
        },
        "outputId": "f965c554-5c49-42f7-99f6-575036be0c73"
      },
      "execution_count": null,
      "outputs": [
        {
          "output_type": "stream",
          "name": "stdout",
          "text": [
            "+------+----+-------+\n",
            "|origin|dest|carrier|\n",
            "+------+----+-------+\n",
            "|   SEA| LAX|     VX|\n",
            "|   SEA| HNL|     AS|\n",
            "|   SEA| SFO|     VX|\n",
            "|   PDX| SJC|     WN|\n",
            "|   SEA| BUR|     AS|\n",
            "|   PDX| DEN|     WN|\n",
            "|   PDX| OAK|     WN|\n",
            "|   SEA| SFO|     VX|\n",
            "|   SEA| SAN|     AS|\n",
            "|   SEA| ORD|     AS|\n",
            "|   SEA| LAX|     AS|\n",
            "|   SEA| PHX|     AS|\n",
            "|   SEA| LAS|     AS|\n",
            "|   SEA| ANC|     AS|\n",
            "|   SEA| SFO|     AS|\n",
            "|   PDX| SFO|     UA|\n",
            "|   SEA| SMF|     AS|\n",
            "|   SEA| MDW|     WN|\n",
            "|   SEA| BOS|     AS|\n",
            "|   PDX| BUR|     OO|\n",
            "+------+----+-------+\n",
            "only showing top 20 rows\n",
            "\n"
          ]
        }
      ]
    },
    {
      "cell_type": "code",
      "source": [
        "# Define first filter to only keep flights from SEA to PDX.\n",
        "FilterA = flights.origin == 'SEA'\n",
        "FilterB =flights.dest == 'PDX'"
      ],
      "metadata": {
        "execution": {
          "iopub.status.busy": "2022-09-23T19:34:55.869913Z",
          "iopub.execute_input": "2022-09-23T19:34:55.87028Z",
          "iopub.status.idle": "2022-09-23T19:34:55.877262Z",
          "shell.execute_reply.started": "2022-09-23T19:34:55.87025Z",
          "shell.execute_reply": "2022-09-23T19:34:55.876224Z"
        },
        "trusted": true,
        "id": "_N0io_VQsaDN"
      },
      "execution_count": null,
      "outputs": []
    },
    {
      "cell_type": "code",
      "source": [
        "\n",
        "# Filter the data, first by filterA then by filterB\n",
        "selected_2 = temp.filter(FilterA).filter(FilterB)\n",
        "selected_2.show()"
      ],
      "metadata": {
        "execution": {
          "iopub.status.busy": "2022-09-23T19:34:56.575183Z",
          "iopub.execute_input": "2022-09-23T19:34:56.576728Z",
          "iopub.status.idle": "2022-09-23T19:34:56.786715Z",
          "shell.execute_reply.started": "2022-09-23T19:34:56.576663Z",
          "shell.execute_reply": "2022-09-23T19:34:56.785482Z"
        },
        "trusted": true,
        "id": "nbufFRP8saDN",
        "colab": {
          "base_uri": "https://localhost:8080/"
        },
        "outputId": "c6923d57-bbc1-48a8-bfe0-ce9639e0c837"
      },
      "execution_count": null,
      "outputs": [
        {
          "output_type": "stream",
          "name": "stdout",
          "text": [
            "+------+----+-------+\n",
            "|origin|dest|carrier|\n",
            "+------+----+-------+\n",
            "|   SEA| PDX|     OO|\n",
            "|   SEA| PDX|     OO|\n",
            "|   SEA| PDX|     OO|\n",
            "|   SEA| PDX|     OO|\n",
            "|   SEA| PDX|     OO|\n",
            "|   SEA| PDX|     AS|\n",
            "|   SEA| PDX|     OO|\n",
            "|   SEA| PDX|     OO|\n",
            "|   SEA| PDX|     OO|\n",
            "|   SEA| PDX|     OO|\n",
            "|   SEA| PDX|     OO|\n",
            "|   SEA| PDX|     OO|\n",
            "|   SEA| PDX|     OO|\n",
            "|   SEA| PDX|     OO|\n",
            "|   SEA| PDX|     AS|\n",
            "|   SEA| PDX|     OO|\n",
            "|   SEA| PDX|     OO|\n",
            "|   SEA| PDX|     OO|\n",
            "|   SEA| PDX|     OO|\n",
            "|   SEA| PDX|     OO|\n",
            "+------+----+-------+\n",
            "only showing top 20 rows\n",
            "\n"
          ]
        }
      ]
    },
    {
      "cell_type": "code",
      "source": [
        "#Create a table of the average speed of each flight both ways.\n",
        "#Calculate average speed by dividing the distance by the air_time (converted to hours).Use the .alias() method name\n",
        "avg_speed = (flights.distance/(flights.air_time/60)).alias(\"avg_speed\")\n",
        "speed_1 = flights.select('origin','dest','tailnum', avg_speed)\n",
        "speed_1.show()"
      ],
      "metadata": {
        "execution": {
          "iopub.status.busy": "2022-09-23T19:34:57.00662Z",
          "iopub.execute_input": "2022-09-23T19:34:57.007783Z",
          "iopub.status.idle": "2022-09-23T19:34:57.035406Z",
          "shell.execute_reply.started": "2022-09-23T19:34:57.007744Z",
          "shell.execute_reply": "2022-09-23T19:34:57.034046Z"
        },
        "trusted": true,
        "id": "xntV7B4DsaDN",
        "colab": {
          "base_uri": "https://localhost:8080/"
        },
        "outputId": "151ee846-d84c-4efa-e974-475848361750"
      },
      "execution_count": null,
      "outputs": [
        {
          "output_type": "stream",
          "name": "stdout",
          "text": [
            "+------+----+-------+------------------+\n",
            "|origin|dest|tailnum|         avg_speed|\n",
            "+------+----+-------+------------------+\n",
            "|   SEA| LAX| N846VA| 433.6363636363636|\n",
            "|   SEA| HNL| N559AS| 446.1666666666667|\n",
            "|   SEA| SFO| N847VA|367.02702702702703|\n",
            "|   PDX| SJC| N360SW| 411.3253012048193|\n",
            "|   SEA| BUR| N612AS| 442.6771653543307|\n",
            "|   PDX| DEN| N646SW|491.40495867768595|\n",
            "|   PDX| OAK| N422WN|             362.0|\n",
            "|   SEA| SFO| N361VA| 415.7142857142857|\n",
            "|   SEA| SAN| N309AS| 466.6666666666667|\n",
            "|   SEA| ORD| N564AS| 521.5151515151515|\n",
            "|   SEA| LAX| N323AS| 440.3076923076923|\n",
            "|   SEA| PHX| N305AS|431.29870129870125|\n",
            "|   SEA| LAS| N433AS| 409.6062992125984|\n",
            "|   SEA| ANC| N765AS|474.75409836065575|\n",
            "|   SEA| SFO| N713AS| 315.8139534883721|\n",
            "|   PDX| SFO| N27205| 366.6666666666667|\n",
            "|   SEA| SMF| N626AS|477.63157894736844|\n",
            "|   SEA| MDW| N8634A|481.38888888888886|\n",
            "|   SEA| BOS| N597AS| 516.4137931034483|\n",
            "|   PDX| BUR| N215AG| 441.6216216216216|\n",
            "+------+----+-------+------------------+\n",
            "only showing top 20 rows\n",
            "\n"
          ]
        }
      ]
    },
    {
      "cell_type": "code",
      "source": [
        "\n",
        "speed_2 =flights.selectExpr('origin','dest','tailnum','distance/(air_time/60) as avg_speed')\n",
        "speed_2.show()"
      ],
      "metadata": {
        "execution": {
          "iopub.status.busy": "2022-09-23T19:34:57.581579Z",
          "iopub.execute_input": "2022-09-23T19:34:57.581987Z",
          "iopub.status.idle": "2022-09-23T19:34:57.760652Z",
          "shell.execute_reply.started": "2022-09-23T19:34:57.581954Z",
          "shell.execute_reply": "2022-09-23T19:34:57.759859Z"
        },
        "trusted": true,
        "id": "8L89JUQdsaDN",
        "colab": {
          "base_uri": "https://localhost:8080/"
        },
        "outputId": "bf197998-58e4-4de9-8294-c93f840f05c4"
      },
      "execution_count": null,
      "outputs": [
        {
          "output_type": "stream",
          "name": "stdout",
          "text": [
            "+------+----+-------+------------------+\n",
            "|origin|dest|tailnum|         avg_speed|\n",
            "+------+----+-------+------------------+\n",
            "|   SEA| LAX| N846VA| 433.6363636363636|\n",
            "|   SEA| HNL| N559AS| 446.1666666666667|\n",
            "|   SEA| SFO| N847VA|367.02702702702703|\n",
            "|   PDX| SJC| N360SW| 411.3253012048193|\n",
            "|   SEA| BUR| N612AS| 442.6771653543307|\n",
            "|   PDX| DEN| N646SW|491.40495867768595|\n",
            "|   PDX| OAK| N422WN|             362.0|\n",
            "|   SEA| SFO| N361VA| 415.7142857142857|\n",
            "|   SEA| SAN| N309AS| 466.6666666666667|\n",
            "|   SEA| ORD| N564AS| 521.5151515151515|\n",
            "|   SEA| LAX| N323AS| 440.3076923076923|\n",
            "|   SEA| PHX| N305AS|431.29870129870125|\n",
            "|   SEA| LAS| N433AS| 409.6062992125984|\n",
            "|   SEA| ANC| N765AS|474.75409836065575|\n",
            "|   SEA| SFO| N713AS| 315.8139534883721|\n",
            "|   PDX| SFO| N27205| 366.6666666666667|\n",
            "|   SEA| SMF| N626AS|477.63157894736844|\n",
            "|   SEA| MDW| N8634A|481.38888888888886|\n",
            "|   SEA| BOS| N597AS| 516.4137931034483|\n",
            "|   PDX| BUR| N215AG| 441.6216216216216|\n",
            "+------+----+-------+------------------+\n",
            "only showing top 20 rows\n",
            "\n"
          ]
        }
      ]
    },
    {
      "cell_type": "code",
      "source": [
        "\n",
        "flights.describe()"
      ],
      "metadata": {
        "execution": {
          "iopub.status.busy": "2022-09-23T19:34:58.20126Z",
          "iopub.execute_input": "2022-09-23T19:34:58.201603Z",
          "iopub.status.idle": "2022-09-23T19:35:01.254691Z",
          "shell.execute_reply.started": "2022-09-23T19:34:58.201576Z",
          "shell.execute_reply": "2022-09-23T19:35:01.253853Z"
        },
        "trusted": true,
        "id": "0TXUlMFssaDN",
        "colab": {
          "base_uri": "https://localhost:8080/"
        },
        "outputId": "6395649c-2c89-487c-8ae7-d3bdcd7cf1e8"
      },
      "execution_count": null,
      "outputs": [
        {
          "output_type": "execute_result",
          "data": {
            "text/plain": [
              "DataFrame[summary: string, year: string, month: string, day: string, dep_time: string, dep_delay: string, arr_time: string, arr_delay: string, carrier: string, tailnum: string, flight: string, origin: string, dest: string, air_time: string, distance: string, hour: string, minute: string, duration_hrs: string]"
            ]
          },
          "metadata": {},
          "execution_count": 58
        }
      ]
    },
    {
      "cell_type": "code",
      "source": [
        "#arr_time: string and distance: string, so to find min() and max() we need to convert this float\n",
        "flights = flights.withColumn('distance', flights.distance.cast('float'))\n",
        "flights = flights.withColumn('air_time', flights.air_time.cast('float'))\n",
        "\n",
        "flights.describe('air_time', 'distance').show()"
      ],
      "metadata": {
        "execution": {
          "iopub.status.busy": "2022-09-23T19:35:01.256182Z",
          "iopub.execute_input": "2022-09-23T19:35:01.256862Z",
          "iopub.status.idle": "2022-09-23T19:35:01.66112Z",
          "shell.execute_reply.started": "2022-09-23T19:35:01.256828Z",
          "shell.execute_reply": "2022-09-23T19:35:01.660009Z"
        },
        "trusted": true,
        "id": "BHQukUrcsaDN",
        "colab": {
          "base_uri": "https://localhost:8080/"
        },
        "outputId": "5fbec695-3743-4ee5-8f96-9ed2f43dfb14"
      },
      "execution_count": null,
      "outputs": [
        {
          "output_type": "stream",
          "name": "stdout",
          "text": [
            "+-------+------------------+-----------------+\n",
            "|summary|          air_time|         distance|\n",
            "+-------+------------------+-----------------+\n",
            "|  count|              9925|            10000|\n",
            "|   mean|152.88423173803525|        1208.1516|\n",
            "| stddev|  72.8656286392139|656.8599023464376|\n",
            "|    min|              20.0|             93.0|\n",
            "|    max|             409.0|           2724.0|\n",
            "+-------+------------------+-----------------+\n",
            "\n"
          ]
        }
      ]
    },
    {
      "cell_type": "code",
      "source": [
        "#Find the length of the shortest (in terms of distance) flight that left PDX\n",
        "flights.filter(flights.origin =='PDX').groupBy().min('distance').show()"
      ],
      "metadata": {
        "execution": {
          "iopub.status.busy": "2022-09-23T19:35:01.662302Z",
          "iopub.execute_input": "2022-09-23T19:35:01.662674Z",
          "iopub.status.idle": "2022-09-23T19:35:01.996226Z",
          "shell.execute_reply.started": "2022-09-23T19:35:01.662638Z",
          "shell.execute_reply": "2022-09-23T19:35:01.995182Z"
        },
        "trusted": true,
        "id": "dC5RYLd_saDN",
        "colab": {
          "base_uri": "https://localhost:8080/"
        },
        "outputId": "4cf5afc2-4a56-40db-e26e-faf0e8a39560"
      },
      "execution_count": null,
      "outputs": [
        {
          "output_type": "stream",
          "name": "stdout",
          "text": [
            "+-------------+\n",
            "|min(distance)|\n",
            "+-------------+\n",
            "|        106.0|\n",
            "+-------------+\n",
            "\n"
          ]
        }
      ]
    },
    {
      "cell_type": "code",
      "source": [
        "#Find the length of the longest (in terms of time) flight that left SEA\n",
        "flights.filter(flights.origin == 'SEA').groupBy().max('air_time').show()"
      ],
      "metadata": {
        "execution": {
          "iopub.status.busy": "2022-09-23T19:35:01.997942Z",
          "iopub.execute_input": "2022-09-23T19:35:01.998236Z",
          "iopub.status.idle": "2022-09-23T19:35:02.207712Z",
          "shell.execute_reply.started": "2022-09-23T19:35:01.998206Z",
          "shell.execute_reply": "2022-09-23T19:35:02.206633Z"
        },
        "trusted": true,
        "id": "mFq4dlSssaDO",
        "colab": {
          "base_uri": "https://localhost:8080/"
        },
        "outputId": "d8873da9-4fd0-48b2-ff26-0c14dd8da274"
      },
      "execution_count": null,
      "outputs": [
        {
          "output_type": "stream",
          "name": "stdout",
          "text": [
            "+-------------+\n",
            "|max(air_time)|\n",
            "+-------------+\n",
            "|        409.0|\n",
            "+-------------+\n",
            "\n"
          ]
        }
      ]
    },
    {
      "cell_type": "code",
      "source": [
        "#get the average air time of Delta Airlines flights  that left SEA.\n",
        "flights.filter(flights.carrier == 'DL').filter(flights.origin == 'SEA').groupBy().avg('air_time').show()"
      ],
      "metadata": {
        "execution": {
          "iopub.status.busy": "2022-09-23T19:35:02.208706Z",
          "iopub.execute_input": "2022-09-23T19:35:02.208994Z",
          "iopub.status.idle": "2022-09-23T19:35:02.424965Z",
          "shell.execute_reply.started": "2022-09-23T19:35:02.208963Z",
          "shell.execute_reply": "2022-09-23T19:35:02.424048Z"
        },
        "trusted": true,
        "id": "ZSeYexUIsaDO",
        "colab": {
          "base_uri": "https://localhost:8080/"
        },
        "outputId": "44ba8fbc-6415-4ed7-b227-056ec4a30780"
      },
      "execution_count": null,
      "outputs": [
        {
          "output_type": "stream",
          "name": "stdout",
          "text": [
            "+------------------+\n",
            "|     avg(air_time)|\n",
            "+------------------+\n",
            "|188.20689655172413|\n",
            "+------------------+\n",
            "\n"
          ]
        }
      ]
    },
    {
      "cell_type": "code",
      "source": [
        "#get the total number of hours all planes in this dataset spent in the air by creating a column called duration_hrs\n",
        "flights.withColumn('duration_hrs', flights.air_time/60).groupBy().sum('duration_hrs').show()"
      ],
      "metadata": {
        "execution": {
          "iopub.status.busy": "2022-09-23T19:35:02.426019Z",
          "iopub.execute_input": "2022-09-23T19:35:02.426328Z",
          "iopub.status.idle": "2022-09-23T19:35:02.625584Z",
          "shell.execute_reply.started": "2022-09-23T19:35:02.426296Z",
          "shell.execute_reply": "2022-09-23T19:35:02.62472Z"
        },
        "trusted": true,
        "id": "xEUfMAYasaDO",
        "colab": {
          "base_uri": "https://localhost:8080/"
        },
        "outputId": "c34258c3-c3fe-4cb9-85d5-558dd6853760"
      },
      "execution_count": null,
      "outputs": [
        {
          "output_type": "stream",
          "name": "stdout",
          "text": [
            "+------------------+\n",
            "| sum(duration_hrs)|\n",
            "+------------------+\n",
            "|25289.600000000126|\n",
            "+------------------+\n",
            "\n"
          ]
        }
      ]
    },
    {
      "cell_type": "code",
      "source": [
        "\n",
        "by_plane = flights.groupBy('tailnum')"
      ],
      "metadata": {
        "execution": {
          "iopub.status.busy": "2022-09-23T19:35:02.627165Z",
          "iopub.execute_input": "2022-09-23T19:35:02.627477Z",
          "iopub.status.idle": "2022-09-23T19:35:02.638711Z",
          "shell.execute_reply.started": "2022-09-23T19:35:02.627448Z",
          "shell.execute_reply": "2022-09-23T19:35:02.637624Z"
        },
        "trusted": true,
        "id": "9nnzgzFosaDO"
      },
      "execution_count": null,
      "outputs": []
    },
    {
      "cell_type": "code",
      "source": [
        "\n",
        "by_plane.count().show()"
      ],
      "metadata": {
        "execution": {
          "iopub.status.busy": "2022-09-23T19:35:02.79573Z",
          "iopub.execute_input": "2022-09-23T19:35:02.796527Z",
          "iopub.status.idle": "2022-09-23T19:35:03.403972Z",
          "shell.execute_reply.started": "2022-09-23T19:35:02.796478Z",
          "shell.execute_reply": "2022-09-23T19:35:03.403126Z"
        },
        "trusted": true,
        "id": "eHpXctI8saDO",
        "colab": {
          "base_uri": "https://localhost:8080/"
        },
        "outputId": "e8553e92-a809-4fa1-ce66-9faccd28c6ff"
      },
      "execution_count": null,
      "outputs": [
        {
          "output_type": "stream",
          "name": "stdout",
          "text": [
            "+-------+-----+\n",
            "|tailnum|count|\n",
            "+-------+-----+\n",
            "| N442AS|   38|\n",
            "| N102UW|    2|\n",
            "| N36472|    4|\n",
            "| N38451|    4|\n",
            "| N73283|    4|\n",
            "| N513UA|    2|\n",
            "| N954WN|    5|\n",
            "| N388DA|    3|\n",
            "| N567AA|    1|\n",
            "| N516UA|    2|\n",
            "| N927DN|    1|\n",
            "| N8322X|    1|\n",
            "| N466SW|    1|\n",
            "|  N6700|    1|\n",
            "| N607AS|   45|\n",
            "| N622SW|    4|\n",
            "| N584AS|   31|\n",
            "| N914WN|    4|\n",
            "| N654AW|    2|\n",
            "| N336NW|    1|\n",
            "+-------+-----+\n",
            "only showing top 20 rows\n",
            "\n"
          ]
        }
      ]
    },
    {
      "cell_type": "code",
      "source": [
        "\n",
        "by_origin = flights.groupBy('origin')"
      ],
      "metadata": {
        "execution": {
          "iopub.status.busy": "2022-09-23T19:35:03.712958Z",
          "iopub.execute_input": "2022-09-23T19:35:03.713336Z",
          "iopub.status.idle": "2022-09-23T19:35:03.726597Z",
          "shell.execute_reply.started": "2022-09-23T19:35:03.713307Z",
          "shell.execute_reply": "2022-09-23T19:35:03.725288Z"
        },
        "trusted": true,
        "id": "IxluD4sBsaDO"
      },
      "execution_count": null,
      "outputs": []
    },
    {
      "cell_type": "code",
      "source": [
        "\n",
        "by_origin.avg('air_time').show()"
      ],
      "metadata": {
        "execution": {
          "iopub.status.busy": "2022-09-23T19:35:04.279972Z",
          "iopub.execute_input": "2022-09-23T19:35:04.280375Z",
          "iopub.status.idle": "2022-09-23T19:35:04.57776Z",
          "shell.execute_reply.started": "2022-09-23T19:35:04.280341Z",
          "shell.execute_reply": "2022-09-23T19:35:04.576772Z"
        },
        "trusted": true,
        "id": "cTAneRcJsaDP",
        "colab": {
          "base_uri": "https://localhost:8080/"
        },
        "outputId": "40865029-068b-4540-e9cd-d4540d089a65"
      },
      "execution_count": null,
      "outputs": [
        {
          "output_type": "stream",
          "name": "stdout",
          "text": [
            "+------+------------------+\n",
            "|origin|     avg(air_time)|\n",
            "+------+------------------+\n",
            "|   SEA| 160.4361496051259|\n",
            "|   PDX|137.11543248288737|\n",
            "+------+------------------+\n",
            "\n"
          ]
        }
      ]
    },
    {
      "cell_type": "code",
      "source": [
        "\n",
        "import pyspark.sql.functions as F\n",
        "\n",
        "flights = flights.withColumn('dep_delay', flights.dep_delay.cast('float'))\n",
        "\n",
        "by_month_dest = flights.groupBy('month', 'dest')"
      ],
      "metadata": {
        "execution": {
          "iopub.status.busy": "2022-09-23T19:35:04.757216Z",
          "iopub.execute_input": "2022-09-23T19:35:04.75759Z",
          "iopub.status.idle": "2022-09-23T19:35:04.78092Z",
          "shell.execute_reply.started": "2022-09-23T19:35:04.757559Z",
          "shell.execute_reply": "2022-09-23T19:35:04.779569Z"
        },
        "trusted": true,
        "id": "TIWr4xrWsaDP"
      },
      "execution_count": null,
      "outputs": []
    },
    {
      "cell_type": "code",
      "source": [
        "# Average departure delay by month and destination\n",
        "by_month_dest.avg('dep_delay').show()"
      ],
      "metadata": {
        "execution": {
          "iopub.status.busy": "2022-09-23T19:35:05.848591Z",
          "iopub.execute_input": "2022-09-23T19:35:05.84897Z",
          "iopub.status.idle": "2022-09-23T19:35:06.184523Z",
          "shell.execute_reply.started": "2022-09-23T19:35:05.848941Z",
          "shell.execute_reply": "2022-09-23T19:35:06.183435Z"
        },
        "trusted": true,
        "id": "hP3vxc5tsaDP",
        "colab": {
          "base_uri": "https://localhost:8080/"
        },
        "outputId": "803ced9f-e416-4566-af6b-6b7d67a65d8d"
      },
      "execution_count": null,
      "outputs": [
        {
          "output_type": "stream",
          "name": "stdout",
          "text": [
            "+-----+----+-------------------+\n",
            "|month|dest|     avg(dep_delay)|\n",
            "+-----+----+-------------------+\n",
            "|    4| PHX| 1.6833333333333333|\n",
            "|    1| RDM|             -1.625|\n",
            "|    5| ONT| 3.5555555555555554|\n",
            "|    7| OMA|               -6.5|\n",
            "|    8| MDW|               7.45|\n",
            "|    6| DEN|  5.418181818181818|\n",
            "|    5| IAD|               -4.0|\n",
            "|   12| COS|               -1.0|\n",
            "|   11| ANC|  7.529411764705882|\n",
            "|    5| AUS|              -0.75|\n",
            "|    5| COS| 11.666666666666666|\n",
            "|    2| PSP|                0.6|\n",
            "|    4| ORD|0.14285714285714285|\n",
            "|   10| DFW| 18.176470588235293|\n",
            "|   10| DCA|               -1.5|\n",
            "|    8| JNU|             18.125|\n",
            "|   11| KOA|               -1.0|\n",
            "|   10| OMA|-0.6666666666666666|\n",
            "|    6| ONT|              9.625|\n",
            "|    3| MSP|                3.2|\n",
            "+-----+----+-------------------+\n",
            "only showing top 20 rows\n",
            "\n"
          ]
        }
      ]
    },
    {
      "cell_type": "code",
      "source": [
        "airports.show()"
      ],
      "metadata": {
        "execution": {
          "iopub.status.busy": "2022-09-23T19:35:06.512761Z",
          "iopub.execute_input": "2022-09-23T19:35:06.513171Z",
          "iopub.status.idle": "2022-09-23T19:35:06.628304Z",
          "shell.execute_reply.started": "2022-09-23T19:35:06.513137Z",
          "shell.execute_reply": "2022-09-23T19:35:06.626904Z"
        },
        "trusted": true,
        "id": "RI0Pcnc-saDP",
        "colab": {
          "base_uri": "https://localhost:8080/"
        },
        "outputId": "7f4531a0-bb47-4f13-e374-f78c44e14b10"
      },
      "execution_count": null,
      "outputs": [
        {
          "output_type": "stream",
          "name": "stdout",
          "text": [
            "+---+--------------------+----------------+-----------------+----+---+---+\n",
            "|faa|                name|             lat|              lon| alt| tz|dst|\n",
            "+---+--------------------+----------------+-----------------+----+---+---+\n",
            "|04G|   Lansdowne Airport|      41.1304722|      -80.6195833|1044| -5|  A|\n",
            "|06A|Moton Field Munic...|      32.4605722|      -85.6800278| 264| -5|  A|\n",
            "|06C| Schaumburg Regional|      41.9893408|      -88.1012428| 801| -6|  A|\n",
            "|06N|     Randall Airport|       41.431912|      -74.3915611| 523| -5|  A|\n",
            "|09J|Jekyll Island Air...|      31.0744722|      -81.4277778|  11| -4|  A|\n",
            "|0A9|Elizabethton Muni...|      36.3712222|      -82.1734167|1593| -4|  A|\n",
            "|0G6|Williams County A...|      41.4673056|      -84.5067778| 730| -5|  A|\n",
            "|0G7|Finger Lakes Regi...|      42.8835647|      -76.7812318| 492| -5|  A|\n",
            "|0P2|Shoestring Aviati...|      39.7948244|      -76.6471914|1000| -5|  U|\n",
            "|0S9|Jefferson County ...|      48.0538086|     -122.8106436| 108| -8|  A|\n",
            "|0W3|Harford County Ai...|      39.5668378|      -76.2024028| 409| -5|  A|\n",
            "|10C|  Galt Field Airport|      42.4028889|      -88.3751111| 875| -6|  U|\n",
            "|17G|Port Bucyrus-Craw...|      40.7815556|      -82.9748056|1003| -5|  A|\n",
            "|19A|Jackson County Ai...|      34.1758638|      -83.5615972| 951| -4|  U|\n",
            "|1A3|Martin Campbell F...|      35.0158056|      -84.3468333|1789| -4|  A|\n",
            "|1B9| Mansfield Municipal|      42.0001331|      -71.1967714| 122| -5|  A|\n",
            "|1C9|Frazier Lake Airpark|54.0133333333333|-124.768333333333| 152| -8|  A|\n",
            "|1CS|Clow Internationa...|      41.6959744|      -88.1292306| 670| -6|  U|\n",
            "|1G3|  Kent State Airport|      41.1513889|      -81.4151111|1134| -4|  A|\n",
            "|1OH|     Fortman Airport|      40.5553253|      -84.3866186| 885| -5|  U|\n",
            "+---+--------------------+----------------+-----------------+----+---+---+\n",
            "only showing top 20 rows\n",
            "\n"
          ]
        }
      ]
    },
    {
      "cell_type": "code",
      "source": [
        "\n",
        "airports = airports.withColumnRenamed('faa','dest')"
      ],
      "metadata": {
        "execution": {
          "iopub.status.busy": "2022-09-23T19:35:07.417253Z",
          "iopub.execute_input": "2022-09-23T19:35:07.417613Z",
          "iopub.status.idle": "2022-09-23T19:35:07.427933Z",
          "shell.execute_reply.started": "2022-09-23T19:35:07.417584Z",
          "shell.execute_reply": "2022-09-23T19:35:07.426873Z"
        },
        "trusted": true,
        "id": "qhHbFfpgsaDP"
      },
      "execution_count": null,
      "outputs": []
    },
    {
      "cell_type": "code",
      "source": [
        "\n",
        "flights_with_airports= flights.join(airports, on='dest', how='leftouter')\n",
        "flights_with_airports.show()"
      ],
      "metadata": {
        "execution": {
          "iopub.status.busy": "2022-09-23T19:35:08.473864Z",
          "iopub.execute_input": "2022-09-23T19:35:08.474529Z",
          "iopub.status.idle": "2022-09-23T19:35:08.876976Z",
          "shell.execute_reply.started": "2022-09-23T19:35:08.47449Z",
          "shell.execute_reply": "2022-09-23T19:35:08.876058Z"
        },
        "trusted": true,
        "id": "FmOs74v6saDP",
        "colab": {
          "base_uri": "https://localhost:8080/"
        },
        "outputId": "27632d26-4ca3-4bab-9346-3a02bf2f6953"
      },
      "execution_count": null,
      "outputs": [
        {
          "output_type": "stream",
          "name": "stdout",
          "text": [
            "+----+----+-----+---+--------+---------+--------+---------+-------+-------+------+------+--------+--------+----+------+------------------+--------------------+---------+-----------+----+---+---+\n",
            "|dest|year|month|day|dep_time|dep_delay|arr_time|arr_delay|carrier|tailnum|flight|origin|air_time|distance|hour|minute|      duration_hrs|                name|      lat|        lon| alt| tz|dst|\n",
            "+----+----+-----+---+--------+---------+--------+---------+-------+-------+------+------+--------+--------+----+------+------------------+--------------------+---------+-----------+----+---+---+\n",
            "| LAX|2014|   12|  8|     658|     -7.0|     935|       -5|     VX| N846VA|  1780|   SEA|   132.0|   954.0|   6|    58|               2.2|    Los Angeles Intl|33.942536|-118.408075| 126| -8|  A|\n",
            "| HNL|2014|    1| 22|    1040|      5.0|    1505|        5|     AS| N559AS|   851|   SEA|   360.0|  2677.0|  10|    40|               6.0|       Honolulu Intl|21.318681|-157.922428|  13|-10|  N|\n",
            "| SFO|2014|    3|  9|    1443|     -2.0|    1652|        2|     VX| N847VA|   755|   SEA|   111.0|   679.0|  14|    43|              1.85|  San Francisco Intl|37.618972|-122.374889|  13| -8|  A|\n",
            "| SJC|2014|    4|  9|    1705|     45.0|    1839|       34|     WN| N360SW|   344|   PDX|    83.0|   569.0|  17|     5|1.3833333333333333|Norman Y Mineta S...|  37.3626|-121.929022|  62| -8|  A|\n",
            "| BUR|2014|    3|  9|     754|     -1.0|    1015|        1|     AS| N612AS|   522|   SEA|   127.0|   937.0|   7|    54|2.1166666666666667|            Bob Hope|34.200667|-118.358667| 778| -8|  A|\n",
            "| DEN|2014|    1| 15|    1037|      7.0|    1352|        2|     WN| N646SW|    48|   PDX|   121.0|   991.0|  10|    37|2.0166666666666666|         Denver Intl|39.861656|-104.673178|5431| -7|  A|\n",
            "| OAK|2014|    7|  2|     847|     42.0|    1041|       51|     WN| N422WN|  1520|   PDX|    90.0|   543.0|   8|    47|               1.5|Metropolitan Oakl...|37.721278|-122.220722|   9| -8|  A|\n",
            "| SFO|2014|    5| 12|    1655|     -5.0|    1842|      -18|     VX| N361VA|   755|   SEA|    98.0|   679.0|  16|    55|1.6333333333333333|  San Francisco Intl|37.618972|-122.374889|  13| -8|  A|\n",
            "| SAN|2014|    4| 19|    1236|     -4.0|    1508|       -7|     AS| N309AS|   490|   SEA|   135.0|  1050.0|  12|    36|              2.25|      San Diego Intl|32.733556|-117.189667|  17| -8|  A|\n",
            "| ORD|2014|   11| 19|    1812|     -3.0|    2352|       -4|     AS| N564AS|    26|   SEA|   198.0|  1721.0|  18|    12|               3.3|  Chicago Ohare Intl|41.978603| -87.904842| 668| -6|  A|\n",
            "| LAX|2014|   11|  8|    1653|     -2.0|    1924|       -1|     AS| N323AS|   448|   SEA|   130.0|   954.0|  16|    53|2.1666666666666665|    Los Angeles Intl|33.942536|-118.408075| 126| -8|  A|\n",
            "| PHX|2014|    8|  3|    1120|      0.0|    1415|        2|     AS| N305AS|   656|   SEA|   154.0|  1107.0|  11|    20| 2.566666666666667|Phoenix Sky Harbo...|33.434278|-112.011583|1135| -7|  N|\n",
            "| LAS|2014|   10| 30|     811|     21.0|    1038|       29|     AS| N433AS|   608|   SEA|   127.0|   867.0|   8|    11|2.1166666666666667|      Mc Carran Intl|36.080056| -115.15225|2141| -8|  A|\n",
            "| ANC|2014|   11| 12|    2346|     -4.0|     217|      -28|     AS| N765AS|   121|   SEA|   183.0|  1448.0|  23|    46|              3.05|Ted Stevens Ancho...|61.174361|-149.996361| 152| -9|  A|\n",
            "| SFO|2014|   10| 31|    1314|     89.0|    1544|      111|     AS| N713AS|   306|   SEA|   129.0|   679.0|  13|    14|              2.15|  San Francisco Intl|37.618972|-122.374889|  13| -8|  A|\n",
            "| SFO|2014|    1| 29|    2009|      3.0|    2159|        9|     UA| N27205|  1458|   PDX|    90.0|   550.0|  20|     9|               1.5|  San Francisco Intl|37.618972|-122.374889|  13| -8|  A|\n",
            "| SMF|2014|   12| 17|    2015|     50.0|    2150|       41|     AS| N626AS|   368|   SEA|    76.0|   605.0|  20|    15|1.2666666666666666|     Sacramento Intl|38.695417|-121.590778|  27| -8|  A|\n",
            "| MDW|2014|    8| 11|    1017|     -3.0|    1613|       -7|     WN| N8634A|   827|   SEA|   216.0|  1733.0|  10|    17|               3.6| Chicago Midway Intl|41.785972| -87.752417| 620| -6|  A|\n",
            "| BOS|2014|    1| 13|    2156|     -9.0|     607|      -15|     AS| N597AS|    24|   SEA|   290.0|  2496.0|  21|    56| 4.833333333333333|General Edward La...|42.364347| -71.005181|  19| -5|  A|\n",
            "| BUR|2014|    6|  5|    1733|    -12.0|    1945|      -10|     OO| N215AG|  3488|   PDX|   111.0|   817.0|  17|    33|              1.85|            Bob Hope|34.200667|-118.358667| 778| -8|  A|\n",
            "+----+----+-----+---+--------+---------+--------+---------+-------+-------+------+------+--------+--------+----+------+------------------+--------------------+---------+-----------+----+---+---+\n",
            "only showing top 20 rows\n",
            "\n"
          ]
        }
      ]
    },
    {
      "cell_type": "code",
      "source": [
        "\n",
        "planes = planes.withColumnRenamed('year', 'plane_year')\n",
        "planes.show()"
      ],
      "metadata": {
        "execution": {
          "iopub.status.busy": "2022-09-23T19:35:15.973259Z",
          "iopub.execute_input": "2022-09-23T19:35:15.973626Z",
          "iopub.status.idle": "2022-09-23T19:35:15.982033Z",
          "shell.execute_reply.started": "2022-09-23T19:35:15.973597Z",
          "shell.execute_reply": "2022-09-23T19:35:15.981108Z"
        },
        "trusted": true,
        "id": "_tWVXvAysaDX",
        "colab": {
          "base_uri": "https://localhost:8080/"
        },
        "outputId": "9fa962f5-0910-4388-a948-f7e9422e512f"
      },
      "execution_count": null,
      "outputs": [
        {
          "output_type": "stream",
          "name": "stdout",
          "text": [
            "+-------+----------+--------------------+----------------+--------+-------+-----+-----+---------+\n",
            "|tailnum|plane_year|                type|    manufacturer|   model|engines|seats|speed|   engine|\n",
            "+-------+----------+--------------------+----------------+--------+-------+-----+-----+---------+\n",
            "| N102UW|      1998|Fixed wing multi ...|AIRBUS INDUSTRIE|A320-214|      2|  182|   NA|Turbo-fan|\n",
            "| N103US|      1999|Fixed wing multi ...|AIRBUS INDUSTRIE|A320-214|      2|  182|   NA|Turbo-fan|\n",
            "| N104UW|      1999|Fixed wing multi ...|AIRBUS INDUSTRIE|A320-214|      2|  182|   NA|Turbo-fan|\n",
            "| N105UW|      1999|Fixed wing multi ...|AIRBUS INDUSTRIE|A320-214|      2|  182|   NA|Turbo-fan|\n",
            "| N107US|      1999|Fixed wing multi ...|AIRBUS INDUSTRIE|A320-214|      2|  182|   NA|Turbo-fan|\n",
            "| N108UW|      1999|Fixed wing multi ...|AIRBUS INDUSTRIE|A320-214|      2|  182|   NA|Turbo-fan|\n",
            "| N109UW|      1999|Fixed wing multi ...|AIRBUS INDUSTRIE|A320-214|      2|  182|   NA|Turbo-fan|\n",
            "| N110UW|      1999|Fixed wing multi ...|AIRBUS INDUSTRIE|A320-214|      2|  182|   NA|Turbo-fan|\n",
            "| N111US|      1999|Fixed wing multi ...|AIRBUS INDUSTRIE|A320-214|      2|  182|   NA|Turbo-fan|\n",
            "| N11206|      2000|Fixed wing multi ...|          BOEING| 737-824|      2|  149|   NA|Turbo-fan|\n",
            "| N112US|      1999|Fixed wing multi ...|AIRBUS INDUSTRIE|A320-214|      2|  182|   NA|Turbo-fan|\n",
            "| N113UW|      1999|Fixed wing multi ...|AIRBUS INDUSTRIE|A320-214|      2|  182|   NA|Turbo-fan|\n",
            "| N114UW|      1999|Fixed wing multi ...|AIRBUS INDUSTRIE|A320-214|      2|  182|   NA|Turbo-fan|\n",
            "| N117UW|      2000|Fixed wing multi ...|AIRBUS INDUSTRIE|A320-214|      2|  182|   NA|Turbo-fan|\n",
            "| N118US|      2000|Fixed wing multi ...|AIRBUS INDUSTRIE|A320-214|      2|  182|   NA|Turbo-fan|\n",
            "| N119US|      2000|Fixed wing multi ...|AIRBUS INDUSTRIE|A320-214|      2|  182|   NA|Turbo-fan|\n",
            "| N1200K|      1998|Fixed wing multi ...|          BOEING| 767-332|      2|  330|   NA|Turbo-fan|\n",
            "| N1201P|      1998|Fixed wing multi ...|          BOEING| 767-332|      2|  330|   NA|Turbo-fan|\n",
            "| N12114|      1995|Fixed wing multi ...|          BOEING| 757-224|      2|  178|   NA|Turbo-jet|\n",
            "| N121DE|      1987|Fixed wing multi ...|          BOEING| 767-332|      2|  330|   NA|Turbo-fan|\n",
            "+-------+----------+--------------------+----------------+--------+-------+-----+-----+---------+\n",
            "only showing top 20 rows\n",
            "\n"
          ]
        }
      ]
    },
    {
      "cell_type": "code",
      "source": [
        "\n",
        "model_data = flights.join(planes, on='tailnum', how='leftouter')\n",
        "model_data.show()"
      ],
      "metadata": {
        "execution": {
          "iopub.status.busy": "2022-09-23T19:35:16.826446Z",
          "iopub.execute_input": "2022-09-23T19:35:16.826903Z",
          "iopub.status.idle": "2022-09-23T19:35:17.211664Z",
          "shell.execute_reply.started": "2022-09-23T19:35:16.826873Z",
          "shell.execute_reply": "2022-09-23T19:35:17.210952Z"
        },
        "trusted": true,
        "id": "jG_7Nq7xsaDX",
        "colab": {
          "base_uri": "https://localhost:8080/"
        },
        "outputId": "532eac96-dd46-49a7-a04a-4d7a92be55ff"
      },
      "execution_count": null,
      "outputs": [
        {
          "output_type": "stream",
          "name": "stdout",
          "text": [
            "+-------+----+-----+---+--------+---------+--------+---------+-------+------+------+----+--------+--------+----+------+------------------+----------+--------------------+--------------+-----------+-------+-----+-----+---------+\n",
            "|tailnum|year|month|day|dep_time|dep_delay|arr_time|arr_delay|carrier|flight|origin|dest|air_time|distance|hour|minute|      duration_hrs|plane_year|                type|  manufacturer|      model|engines|seats|speed|   engine|\n",
            "+-------+----+-----+---+--------+---------+--------+---------+-------+------+------+----+--------+--------+----+------+------------------+----------+--------------------+--------------+-----------+-------+-----+-----+---------+\n",
            "| N846VA|2014|   12|  8|     658|     -7.0|     935|       -5|     VX|  1780|   SEA| LAX|   132.0|   954.0|   6|    58|               2.2|      2011|Fixed wing multi ...|        AIRBUS|   A320-214|      2|  182|   NA|Turbo-fan|\n",
            "| N559AS|2014|    1| 22|    1040|      5.0|    1505|        5|     AS|   851|   SEA| HNL|   360.0|  2677.0|  10|    40|               6.0|      2006|Fixed wing multi ...|        BOEING|    737-890|      2|  149|   NA|Turbo-fan|\n",
            "| N847VA|2014|    3|  9|    1443|     -2.0|    1652|        2|     VX|   755|   SEA| SFO|   111.0|   679.0|  14|    43|              1.85|      2011|Fixed wing multi ...|        AIRBUS|   A320-214|      2|  182|   NA|Turbo-fan|\n",
            "| N360SW|2014|    4|  9|    1705|     45.0|    1839|       34|     WN|   344|   PDX| SJC|    83.0|   569.0|  17|     5|1.3833333333333333|      1992|Fixed wing multi ...|        BOEING|    737-3H4|      2|  149|   NA|Turbo-fan|\n",
            "| N612AS|2014|    3|  9|     754|     -1.0|    1015|        1|     AS|   522|   SEA| BUR|   127.0|   937.0|   7|    54|2.1166666666666667|      1999|Fixed wing multi ...|        BOEING|    737-790|      2|  151|   NA|Turbo-jet|\n",
            "| N646SW|2014|    1| 15|    1037|      7.0|    1352|        2|     WN|    48|   PDX| DEN|   121.0|   991.0|  10|    37|2.0166666666666666|      1997|Fixed wing multi ...|        BOEING|    737-3H4|      2|  149|   NA|Turbo-fan|\n",
            "| N422WN|2014|    7|  2|     847|     42.0|    1041|       51|     WN|  1520|   PDX| OAK|    90.0|   543.0|   8|    47|               1.5|      2002|Fixed wing multi ...|        BOEING|    737-7H4|      2|  140|   NA|Turbo-fan|\n",
            "| N361VA|2014|    5| 12|    1655|     -5.0|    1842|      -18|     VX|   755|   SEA| SFO|    98.0|   679.0|  16|    55|1.6333333333333333|      2013|Fixed wing multi ...|        AIRBUS|   A320-214|      2|  182|   NA|Turbo-fan|\n",
            "| N309AS|2014|    4| 19|    1236|     -4.0|    1508|       -7|     AS|   490|   SEA| SAN|   135.0|  1050.0|  12|    36|              2.25|      2001|Fixed wing multi ...|        BOEING|    737-990|      2|  149|   NA|Turbo-jet|\n",
            "| N564AS|2014|   11| 19|    1812|     -3.0|    2352|       -4|     AS|    26|   SEA| ORD|   198.0|  1721.0|  18|    12|               3.3|      2006|Fixed wing multi ...|        BOEING|    737-890|      2|  149|   NA|Turbo-fan|\n",
            "| N323AS|2014|   11|  8|    1653|     -2.0|    1924|       -1|     AS|   448|   SEA| LAX|   130.0|   954.0|  16|    53|2.1666666666666665|      2004|Fixed wing multi ...|        BOEING|    737-990|      2|  149|   NA|Turbo-jet|\n",
            "| N305AS|2014|    8|  3|    1120|      0.0|    1415|        2|     AS|   656|   SEA| PHX|   154.0|  1107.0|  11|    20| 2.566666666666667|      2001|Fixed wing multi ...|        BOEING|    737-990|      2|  149|   NA|Turbo-jet|\n",
            "| N433AS|2014|   10| 30|     811|     21.0|    1038|       29|     AS|   608|   SEA| LAS|   127.0|   867.0|   8|    11|2.1166666666666667|      2013|Fixed wing multi ...|        BOEING|  737-990ER|      2|  222|   NA|Turbo-fan|\n",
            "| N765AS|2014|   11| 12|    2346|     -4.0|     217|      -28|     AS|   121|   SEA| ANC|   183.0|  1448.0|  23|    46|              3.05|      1992|Fixed wing multi ...|        BOEING|    737-4Q8|      2|  149|   NA|Turbo-fan|\n",
            "| N713AS|2014|   10| 31|    1314|     89.0|    1544|      111|     AS|   306|   SEA| SFO|   129.0|   679.0|  13|    14|              2.15|      1999|Fixed wing multi ...|        BOEING|    737-490|      2|  149|   NA|Turbo-jet|\n",
            "| N27205|2014|    1| 29|    2009|      3.0|    2159|        9|     UA|  1458|   PDX| SFO|    90.0|   550.0|  20|     9|               1.5|      2000|Fixed wing multi ...|        BOEING|    737-824|      2|  149|   NA|Turbo-fan|\n",
            "| N626AS|2014|   12| 17|    2015|     50.0|    2150|       41|     AS|   368|   SEA| SMF|    76.0|   605.0|  20|    15|1.2666666666666666|      2001|Fixed wing multi ...|        BOEING|    737-790|      2|  151|   NA|Turbo-jet|\n",
            "| N8634A|2014|    8| 11|    1017|     -3.0|    1613|       -7|     WN|   827|   SEA| MDW|   216.0|  1733.0|  10|    17|               3.6|      2014|Fixed wing multi ...|        BOEING|    737-8H4|      2|  140|   NA|Turbo-fan|\n",
            "| N597AS|2014|    1| 13|    2156|     -9.0|     607|      -15|     AS|    24|   SEA| BOS|   290.0|  2496.0|  21|    56| 4.833333333333333|      2008|Fixed wing multi ...|        BOEING|    737-890|      2|  149|   NA|Turbo-fan|\n",
            "| N215AG|2014|    6|  5|    1733|    -12.0|    1945|      -10|     OO|  3488|   PDX| BUR|   111.0|   817.0|  17|    33|              1.85|      2001|Fixed wing multi ...|BOMBARDIER INC|CL-600-2C10|      2|   80|   NA|Turbo-fan|\n",
            "+-------+----+-----+---+--------+---------+--------+---------+-------+------+------+----+--------+--------+----+------+------------------+----------+--------------------+--------------+-----------+-------+-----+-----+---------+\n",
            "only showing top 20 rows\n",
            "\n"
          ]
        }
      ]
    },
    {
      "cell_type": "code",
      "source": [
        "\n",
        "model_data.describe()"
      ],
      "metadata": {
        "execution": {
          "iopub.status.busy": "2022-09-23T19:35:17.668013Z",
          "iopub.execute_input": "2022-09-23T19:35:17.668385Z",
          "iopub.status.idle": "2022-09-23T19:35:20.933541Z",
          "shell.execute_reply.started": "2022-09-23T19:35:17.668356Z",
          "shell.execute_reply": "2022-09-23T19:35:20.932684Z"
        },
        "trusted": true,
        "id": "AsdEWfmNsaDX",
        "colab": {
          "base_uri": "https://localhost:8080/"
        },
        "outputId": "4cacf1b6-b492-4b27-cc18-f257c47dcb83"
      },
      "execution_count": null,
      "outputs": [
        {
          "output_type": "execute_result",
          "data": {
            "text/plain": [
              "DataFrame[summary: string, tailnum: string, year: string, month: string, day: string, dep_time: string, dep_delay: string, arr_time: string, arr_delay: string, carrier: string, flight: string, origin: string, dest: string, air_time: string, distance: string, hour: string, minute: string, duration_hrs: string, plane_year: string, type: string, manufacturer: string, model: string, engines: string, seats: string, speed: string, engine: string]"
            ]
          },
          "metadata": {},
          "execution_count": 77
        }
      ]
    },
    {
      "cell_type": "code",
      "source": [
        "model_data = model_data.withColumn('arr_delay', model_data.arr_delay.cast('integer'))\n",
        "model_data = model_data.withColumn('air_time' , model_data.air_time.cast('integer'))\n",
        "model_data = model_data.withColumn('month', model_data.month.cast('integer'))\n",
        "model_data = model_data.withColumn('plane_year', model_data.plane_year.cast('integer'))"
      ],
      "metadata": {
        "execution": {
          "iopub.status.busy": "2022-09-23T19:35:20.9349Z",
          "iopub.execute_input": "2022-09-23T19:35:20.935237Z",
          "iopub.status.idle": "2022-09-23T19:35:20.989598Z",
          "shell.execute_reply.started": "2022-09-23T19:35:20.935203Z",
          "shell.execute_reply": "2022-09-23T19:35:20.988707Z"
        },
        "trusted": true,
        "id": "Dh7rkhCzsaDX"
      },
      "execution_count": null,
      "outputs": []
    },
    {
      "cell_type": "code",
      "source": [
        "\n",
        "model_data.describe('arr_delay', 'air_time','month', 'plane_year').show()"
      ],
      "metadata": {
        "execution": {
          "iopub.status.busy": "2022-09-23T19:35:24.457564Z",
          "iopub.execute_input": "2022-09-23T19:35:24.45799Z",
          "iopub.status.idle": "2022-09-23T19:35:24.938741Z",
          "shell.execute_reply.started": "2022-09-23T19:35:24.457957Z",
          "shell.execute_reply": "2022-09-23T19:35:24.93779Z"
        },
        "trusted": true,
        "id": "dTtlmuiMsaDX",
        "colab": {
          "base_uri": "https://localhost:8080/"
        },
        "outputId": "06b32bcf-999e-4553-e6eb-f0b825090f64"
      },
      "execution_count": null,
      "outputs": [
        {
          "output_type": "stream",
          "name": "stdout",
          "text": [
            "+-------+------------------+------------------+------------------+-----------------+\n",
            "|summary|         arr_delay|          air_time|             month|       plane_year|\n",
            "+-------+------------------+------------------+------------------+-----------------+\n",
            "|  count|              9925|              9925|             10000|             9354|\n",
            "|   mean|2.2530982367758186|152.88423173803525|            6.6438|2001.594398118452|\n",
            "| stddev|31.074918600451877|  72.8656286392139|3.3191600205962097|58.92921992728455|\n",
            "|    min|               -58|                20|                 1|                0|\n",
            "|    max|               900|               409|                12|             2014|\n",
            "+-------+------------------+------------------+------------------+-----------------+\n",
            "\n"
          ]
        }
      ]
    },
    {
      "cell_type": "code",
      "source": [
        "\n",
        "model_data =model_data.withColumn('plane_age', model_data.year - model_data.plane_year)"
      ],
      "metadata": {
        "execution": {
          "iopub.status.busy": "2022-09-23T19:35:24.940221Z",
          "iopub.execute_input": "2022-09-23T19:35:24.940496Z",
          "iopub.status.idle": "2022-09-23T19:35:24.962359Z",
          "shell.execute_reply.started": "2022-09-23T19:35:24.940472Z",
          "shell.execute_reply": "2022-09-23T19:35:24.961178Z"
        },
        "trusted": true,
        "id": "dVp7TQbIsaDY"
      },
      "execution_count": null,
      "outputs": []
    },
    {
      "cell_type": "code",
      "source": [
        "\n",
        "model_data = model_data.withColumn('is_late', model_data.arr_delay >0)\n",
        "\n",
        "model_data = model_data.withColumn('label', model_data.is_late.cast('integer'))\n",
        "\n",
        "model_data.filter(\"arr_delay is not NULL and dep_delay is not NULL and air_time is not NULL and plane_year is not NULL\")"
      ],
      "metadata": {
        "execution": {
          "iopub.status.busy": "2022-09-23T19:35:25.420957Z",
          "iopub.execute_input": "2022-09-23T19:35:25.421341Z",
          "iopub.status.idle": "2022-09-23T19:35:25.46973Z",
          "shell.execute_reply.started": "2022-09-23T19:35:25.421311Z",
          "shell.execute_reply": "2022-09-23T19:35:25.468788Z"
        },
        "trusted": true,
        "id": "66Xgw70osaDY",
        "colab": {
          "base_uri": "https://localhost:8080/"
        },
        "outputId": "86bb4394-d0ca-47c5-8c38-a81f66817da2"
      },
      "execution_count": null,
      "outputs": [
        {
          "output_type": "execute_result",
          "data": {
            "text/plain": [
              "DataFrame[tailnum: string, year: int, month: int, day: int, dep_time: string, dep_delay: float, arr_time: string, arr_delay: int, carrier: string, flight: int, origin: string, dest: string, air_time: int, distance: float, hour: string, minute: string, duration_hrs: double, plane_year: int, type: string, manufacturer: string, model: string, engines: int, seats: int, speed: string, engine: string, plane_age: int, is_late: boolean, label: int]"
            ]
          },
          "metadata": {},
          "execution_count": 81
        }
      ]
    },
    {
      "cell_type": "code",
      "source": [
        "\n",
        "from pyspark.ml.feature import StringIndexer, OneHotEncoder"
      ],
      "metadata": {
        "execution": {
          "iopub.status.busy": "2022-09-23T19:35:26.09826Z",
          "iopub.execute_input": "2022-09-23T19:35:26.098664Z",
          "iopub.status.idle": "2022-09-23T19:35:26.374288Z",
          "shell.execute_reply.started": "2022-09-23T19:35:26.09863Z",
          "shell.execute_reply": "2022-09-23T19:35:26.372972Z"
        },
        "trusted": true,
        "id": "YrGID8UgsaDY"
      },
      "execution_count": null,
      "outputs": []
    },
    {
      "cell_type": "code",
      "source": [
        "\n",
        "carr_indexer = StringIndexer(inputCol='carrier', outputCol='carrier_index')\n",
        "\n",
        "carr_encoder = OneHotEncoder(inputCol='carrier_index', outputCol='carr_fact')"
      ],
      "metadata": {
        "execution": {
          "iopub.status.busy": "2022-09-23T19:35:26.868347Z",
          "iopub.execute_input": "2022-09-23T19:35:26.868953Z",
          "iopub.status.idle": "2022-09-23T19:35:26.908021Z",
          "shell.execute_reply.started": "2022-09-23T19:35:26.86892Z",
          "shell.execute_reply": "2022-09-23T19:35:26.907011Z"
        },
        "trusted": true,
        "id": "q5HR3lhfsaDY"
      },
      "execution_count": null,
      "outputs": []
    },
    {
      "cell_type": "code",
      "source": [
        "\n",
        "dest_indexer = StringIndexer(inputCol='dest', outputCol='dest_index')\n",
        "dest_encoder = OneHotEncoder(inputCol='dest_index', outputCol='dest_fact')"
      ],
      "metadata": {
        "execution": {
          "iopub.status.busy": "2022-09-23T19:35:27.415767Z",
          "iopub.execute_input": "2022-09-23T19:35:27.4162Z",
          "iopub.status.idle": "2022-09-23T19:35:27.42915Z",
          "shell.execute_reply.started": "2022-09-23T19:35:27.416167Z",
          "shell.execute_reply": "2022-09-23T19:35:27.428035Z"
        },
        "trusted": true,
        "id": "C_12gPqmsaDY"
      },
      "execution_count": null,
      "outputs": []
    },
    {
      "cell_type": "code",
      "source": [
        "\n",
        "from pyspark.ml.feature import  VectorAssembler"
      ],
      "metadata": {
        "execution": {
          "iopub.status.busy": "2022-09-23T19:35:28.024775Z",
          "iopub.execute_input": "2022-09-23T19:35:28.025207Z",
          "iopub.status.idle": "2022-09-23T19:35:28.030488Z",
          "shell.execute_reply.started": "2022-09-23T19:35:28.025177Z",
          "shell.execute_reply": "2022-09-23T19:35:28.028938Z"
        },
        "trusted": true,
        "id": "A5zMro9psaDY"
      },
      "execution_count": null,
      "outputs": []
    },
    {
      "cell_type": "code",
      "source": [
        "\n",
        "vec_assembler =VectorAssembler(inputCols=['month', 'air_time','carr_fact','dest_fact','plane_age'],\n",
        "                              outputCol='features',handleInvalid=\"skip\")"
      ],
      "metadata": {
        "execution": {
          "iopub.status.busy": "2022-09-23T19:42:33.027433Z",
          "iopub.execute_input": "2022-09-23T19:42:33.027835Z",
          "iopub.status.idle": "2022-09-23T19:42:33.039754Z",
          "shell.execute_reply.started": "2022-09-23T19:42:33.027781Z",
          "shell.execute_reply": "2022-09-23T19:42:33.038229Z"
        },
        "trusted": true,
        "id": "6L1s0ULVsaDZ"
      },
      "execution_count": null,
      "outputs": []
    },
    {
      "cell_type": "code",
      "source": [
        "\n",
        "from pyspark.ml import Pipeline\n",
        "\n",
        "flights_pipe = Pipeline(stages=[dest_indexer, dest_encoder, carr_indexer, carr_encoder, vec_assembler])"
      ],
      "metadata": {
        "execution": {
          "iopub.status.busy": "2022-09-23T19:42:34.103531Z",
          "iopub.execute_input": "2022-09-23T19:42:34.103934Z",
          "iopub.status.idle": "2022-09-23T19:42:34.109812Z",
          "shell.execute_reply.started": "2022-09-23T19:42:34.1039Z",
          "shell.execute_reply": "2022-09-23T19:42:34.108736Z"
        },
        "trusted": true,
        "id": "N5nl2M4jsaDZ"
      },
      "execution_count": null,
      "outputs": []
    },
    {
      "cell_type": "code",
      "source": [
        "piped_data =flights_pipe.fit(model_data).transform(model_data)"
      ],
      "metadata": {
        "execution": {
          "iopub.status.busy": "2022-09-23T19:42:34.746844Z",
          "iopub.execute_input": "2022-09-23T19:42:34.74725Z",
          "iopub.status.idle": "2022-09-23T19:42:35.569772Z",
          "shell.execute_reply.started": "2022-09-23T19:42:34.747217Z",
          "shell.execute_reply": "2022-09-23T19:42:35.569024Z"
        },
        "trusted": true,
        "id": "pMv6kNmesaDZ"
      },
      "execution_count": null,
      "outputs": []
    },
    {
      "cell_type": "code",
      "source": [
        "piped_data.show()"
      ],
      "metadata": {
        "execution": {
          "iopub.status.busy": "2022-09-23T19:42:35.570913Z",
          "iopub.execute_input": "2022-09-23T19:42:35.571187Z",
          "iopub.status.idle": "2022-09-23T19:42:35.852219Z",
          "shell.execute_reply.started": "2022-09-23T19:42:35.571153Z",
          "shell.execute_reply": "2022-09-23T19:42:35.851188Z"
        },
        "trusted": true,
        "id": "JEjpI_EMsaDZ",
        "colab": {
          "base_uri": "https://localhost:8080/"
        },
        "outputId": "29333d6f-55e7-49b0-c34c-f6db266570b0"
      },
      "execution_count": null,
      "outputs": [
        {
          "output_type": "stream",
          "name": "stdout",
          "text": [
            "+-------+----+-----+---+--------+---------+--------+---------+-------+------+------+----+--------+--------+----+------+------------------+----------+--------------------+--------------+-----------+-------+-----+-----+---------+---------+-------+-----+----------+---------------+-------------+--------------+--------------------+\n",
            "|tailnum|year|month|day|dep_time|dep_delay|arr_time|arr_delay|carrier|flight|origin|dest|air_time|distance|hour|minute|      duration_hrs|plane_year|                type|  manufacturer|      model|engines|seats|speed|   engine|plane_age|is_late|label|dest_index|      dest_fact|carrier_index|     carr_fact|            features|\n",
            "+-------+----+-----+---+--------+---------+--------+---------+-------+------+------+----+--------+--------+----+------+------------------+----------+--------------------+--------------+-----------+-------+-----+-----+---------+---------+-------+-----+----------+---------------+-------------+--------------+--------------------+\n",
            "| N846VA|2014|   12|  8|     658|     -7.0|     935|       -5|     VX|  1780|   SEA| LAX|     132|   954.0|   6|    58|               2.2|      2011|Fixed wing multi ...|        AIRBUS|   A320-214|      2|  182|   NA|Turbo-fan|        3|  false|    0|       1.0| (68,[1],[1.0])|          8.0|(10,[8],[1.0])|(81,[0,1,10,13,80...|\n",
            "| N559AS|2014|    1| 22|    1040|      5.0|    1505|        5|     AS|   851|   SEA| HNL|     360|  2677.0|  10|    40|               6.0|      2006|Fixed wing multi ...|        BOEING|    737-890|      2|  149|   NA|Turbo-fan|        8|   true|    1|      22.0|(68,[22],[1.0])|          0.0|(10,[0],[1.0])|(81,[0,1,2,34,80]...|\n",
            "| N847VA|2014|    3|  9|    1443|     -2.0|    1652|        2|     VX|   755|   SEA| SFO|     111|   679.0|  14|    43|              1.85|      2011|Fixed wing multi ...|        AIRBUS|   A320-214|      2|  182|   NA|Turbo-fan|        3|   true|    1|       0.0| (68,[0],[1.0])|          8.0|(10,[8],[1.0])|(81,[0,1,10,12,80...|\n",
            "| N360SW|2014|    4|  9|    1705|     45.0|    1839|       34|     WN|   344|   PDX| SJC|      83|   569.0|  17|     5|1.3833333333333333|      1992|Fixed wing multi ...|        BOEING|    737-3H4|      2|  149|   NA|Turbo-fan|       22|   true|    1|       9.0| (68,[9],[1.0])|          1.0|(10,[1],[1.0])|(81,[0,1,3,21,80]...|\n",
            "| N612AS|2014|    3|  9|     754|     -1.0|    1015|        1|     AS|   522|   SEA| BUR|     127|   937.0|   7|    54|2.1166666666666667|      1999|Fixed wing multi ...|        BOEING|    737-790|      2|  151|   NA|Turbo-jet|       15|   true|    1|      23.0|(68,[23],[1.0])|          0.0|(10,[0],[1.0])|(81,[0,1,2,35,80]...|\n",
            "| N646SW|2014|    1| 15|    1037|      7.0|    1352|        2|     WN|    48|   PDX| DEN|     121|   991.0|  10|    37|2.0166666666666666|      1997|Fixed wing multi ...|        BOEING|    737-3H4|      2|  149|   NA|Turbo-fan|       17|   true|    1|       2.0| (68,[2],[1.0])|          1.0|(10,[1],[1.0])|(81,[0,1,3,14,80]...|\n",
            "| N422WN|2014|    7|  2|     847|     42.0|    1041|       51|     WN|  1520|   PDX| OAK|      90|   543.0|   8|    47|               1.5|      2002|Fixed wing multi ...|        BOEING|    737-7H4|      2|  140|   NA|Turbo-fan|       12|   true|    1|      10.0|(68,[10],[1.0])|          1.0|(10,[1],[1.0])|(81,[0,1,3,22,80]...|\n",
            "| N361VA|2014|    5| 12|    1655|     -5.0|    1842|      -18|     VX|   755|   SEA| SFO|      98|   679.0|  16|    55|1.6333333333333333|      2013|Fixed wing multi ...|        AIRBUS|   A320-214|      2|  182|   NA|Turbo-fan|        1|  false|    0|       0.0| (68,[0],[1.0])|          8.0|(10,[8],[1.0])|(81,[0,1,10,12,80...|\n",
            "| N309AS|2014|    4| 19|    1236|     -4.0|    1508|       -7|     AS|   490|   SEA| SAN|     135|  1050.0|  12|    36|              2.25|      2001|Fixed wing multi ...|        BOEING|    737-990|      2|  149|   NA|Turbo-jet|       13|  false|    0|      12.0|(68,[12],[1.0])|          0.0|(10,[0],[1.0])|(81,[0,1,2,24,80]...|\n",
            "| N564AS|2014|   11| 19|    1812|     -3.0|    2352|       -4|     AS|    26|   SEA| ORD|     198|  1721.0|  18|    12|               3.3|      2006|Fixed wing multi ...|        BOEING|    737-890|      2|  149|   NA|Turbo-fan|        8|  false|    0|       6.0| (68,[6],[1.0])|          0.0|(10,[0],[1.0])|(81,[0,1,2,18,80]...|\n",
            "| N323AS|2014|   11|  8|    1653|     -2.0|    1924|       -1|     AS|   448|   SEA| LAX|     130|   954.0|  16|    53|2.1666666666666665|      2004|Fixed wing multi ...|        BOEING|    737-990|      2|  149|   NA|Turbo-jet|       10|  false|    0|       1.0| (68,[1],[1.0])|          0.0|(10,[0],[1.0])|(81,[0,1,2,13,80]...|\n",
            "| N305AS|2014|    8|  3|    1120|      0.0|    1415|        2|     AS|   656|   SEA| PHX|     154|  1107.0|  11|    20| 2.566666666666667|      2001|Fixed wing multi ...|        BOEING|    737-990|      2|  149|   NA|Turbo-jet|       13|   true|    1|       3.0| (68,[3],[1.0])|          0.0|(10,[0],[1.0])|(81,[0,1,2,15,80]...|\n",
            "| N433AS|2014|   10| 30|     811|     21.0|    1038|       29|     AS|   608|   SEA| LAS|     127|   867.0|   8|    11|2.1166666666666667|      2013|Fixed wing multi ...|        BOEING|  737-990ER|      2|  222|   NA|Turbo-fan|        1|   true|    1|       4.0| (68,[4],[1.0])|          0.0|(10,[0],[1.0])|(81,[0,1,2,16,80]...|\n",
            "| N765AS|2014|   11| 12|    2346|     -4.0|     217|      -28|     AS|   121|   SEA| ANC|     183|  1448.0|  23|    46|              3.05|      1992|Fixed wing multi ...|        BOEING|    737-4Q8|      2|  149|   NA|Turbo-fan|       22|  false|    0|       5.0| (68,[5],[1.0])|          0.0|(10,[0],[1.0])|(81,[0,1,2,17,80]...|\n",
            "| N713AS|2014|   10| 31|    1314|     89.0|    1544|      111|     AS|   306|   SEA| SFO|     129|   679.0|  13|    14|              2.15|      1999|Fixed wing multi ...|        BOEING|    737-490|      2|  149|   NA|Turbo-jet|       15|   true|    1|       0.0| (68,[0],[1.0])|          0.0|(10,[0],[1.0])|(81,[0,1,2,12,80]...|\n",
            "| N27205|2014|    1| 29|    2009|      3.0|    2159|        9|     UA|  1458|   PDX| SFO|      90|   550.0|  20|     9|               1.5|      2000|Fixed wing multi ...|        BOEING|    737-824|      2|  149|   NA|Turbo-fan|       14|   true|    1|       0.0| (68,[0],[1.0])|          4.0|(10,[4],[1.0])|(81,[0,1,6,12,80]...|\n",
            "| N626AS|2014|   12| 17|    2015|     50.0|    2150|       41|     AS|   368|   SEA| SMF|      76|   605.0|  20|    15|1.2666666666666666|      2001|Fixed wing multi ...|        BOEING|    737-790|      2|  151|   NA|Turbo-jet|       13|   true|    1|      11.0|(68,[11],[1.0])|          0.0|(10,[0],[1.0])|(81,[0,1,2,23,80]...|\n",
            "| N8634A|2014|    8| 11|    1017|     -3.0|    1613|       -7|     WN|   827|   SEA| MDW|     216|  1733.0|  10|    17|               3.6|      2014|Fixed wing multi ...|        BOEING|    737-8H4|      2|  140|   NA|Turbo-fan|        0|  false|    0|      30.0|(68,[30],[1.0])|          1.0|(10,[1],[1.0])|(81,[0,1,3,42],[8...|\n",
            "| N597AS|2014|    1| 13|    2156|     -9.0|     607|      -15|     AS|    24|   SEA| BOS|     290|  2496.0|  21|    56| 4.833333333333333|      2008|Fixed wing multi ...|        BOEING|    737-890|      2|  149|   NA|Turbo-fan|        6|  false|    0|      24.0|(68,[24],[1.0])|          0.0|(10,[0],[1.0])|(81,[0,1,2,36,80]...|\n",
            "| N215AG|2014|    6|  5|    1733|    -12.0|    1945|      -10|     OO|  3488|   PDX| BUR|     111|   817.0|  17|    33|              1.85|      2001|Fixed wing multi ...|BOMBARDIER INC|CL-600-2C10|      2|   80|   NA|Turbo-fan|       13|  false|    0|      23.0|(68,[23],[1.0])|          2.0|(10,[2],[1.0])|(81,[0,1,4,35,80]...|\n",
            "+-------+----+-----+---+--------+---------+--------+---------+-------+------+------+----+--------+--------+----+------+------------------+----------+--------------------+--------------+-----------+-------+-----+-----+---------+---------+-------+-----+----------+---------------+-------------+--------------+--------------------+\n",
            "only showing top 20 rows\n",
            "\n"
          ]
        }
      ]
    },
    {
      "cell_type": "code",
      "source": [
        "training, test = piped_data.randomSplit([.6, .4])"
      ],
      "metadata": {
        "execution": {
          "iopub.status.busy": "2022-09-23T19:42:35.85344Z",
          "iopub.execute_input": "2022-09-23T19:42:35.853748Z",
          "iopub.status.idle": "2022-09-23T19:42:35.872459Z",
          "shell.execute_reply.started": "2022-09-23T19:42:35.853719Z",
          "shell.execute_reply": "2022-09-23T19:42:35.871322Z"
        },
        "trusted": true,
        "id": "34lNnvNGsaDZ"
      },
      "execution_count": null,
      "outputs": []
    },
    {
      "cell_type": "code",
      "source": [
        "\n",
        "from pyspark.ml.classification import LogisticRegression\n",
        "\n",
        "lr = LogisticRegression()"
      ],
      "metadata": {
        "execution": {
          "iopub.status.busy": "2022-09-23T19:42:36.491785Z",
          "iopub.execute_input": "2022-09-23T19:42:36.492164Z",
          "iopub.status.idle": "2022-09-23T19:42:36.503094Z",
          "shell.execute_reply.started": "2022-09-23T19:42:36.492133Z",
          "shell.execute_reply": "2022-09-23T19:42:36.50195Z"
        },
        "trusted": true,
        "id": "DzqcL0iOsaDZ"
      },
      "execution_count": null,
      "outputs": []
    },
    {
      "cell_type": "code",
      "source": [
        "\n",
        "\n",
        "import pyspark.ml.evaluation as evals\n",
        "\n",
        "evaluator = evals.BinaryClassificationEvaluator(metricName='areaUnderROC')"
      ],
      "metadata": {
        "execution": {
          "iopub.status.busy": "2022-09-23T19:42:37.310209Z",
          "iopub.execute_input": "2022-09-23T19:42:37.310891Z",
          "iopub.status.idle": "2022-09-23T19:42:37.322351Z",
          "shell.execute_reply.started": "2022-09-23T19:42:37.310845Z",
          "shell.execute_reply": "2022-09-23T19:42:37.320876Z"
        },
        "trusted": true,
        "id": "_PCQLQa8saDa"
      },
      "execution_count": null,
      "outputs": []
    },
    {
      "cell_type": "code",
      "source": [
        "\n",
        "import pyspark.ml.tuning as tune\n",
        "grid = tune.ParamGridBuilder()\n",
        "\n",
        "grid = grid.addGrid(lr.regParam, np.arange(0, .1, .01))\n",
        "grid = grid.addGrid(lr.elasticNetParam, [0,1])\n",
        "grid = grid.build()"
      ],
      "metadata": {
        "execution": {
          "iopub.status.busy": "2022-09-23T19:42:37.862173Z",
          "iopub.execute_input": "2022-09-23T19:42:37.862538Z",
          "iopub.status.idle": "2022-09-23T19:42:37.869944Z",
          "shell.execute_reply.started": "2022-09-23T19:42:37.862509Z",
          "shell.execute_reply": "2022-09-23T19:42:37.86863Z"
        },
        "trusted": true,
        "id": "s9UYFo3qsaDa"
      },
      "execution_count": null,
      "outputs": []
    },
    {
      "cell_type": "code",
      "source": [
        "\n",
        "cv = tune.CrossValidator(estimator=lr,\n",
        "               estimatorParamMaps=grid,\n",
        "               evaluator=evaluator\n",
        "               )"
      ],
      "metadata": {
        "execution": {
          "iopub.status.busy": "2022-09-23T19:42:39.105787Z",
          "iopub.execute_input": "2022-09-23T19:42:39.106197Z",
          "iopub.status.idle": "2022-09-23T19:42:39.11155Z",
          "shell.execute_reply.started": "2022-09-23T19:42:39.106166Z",
          "shell.execute_reply": "2022-09-23T19:42:39.110506Z"
        },
        "trusted": true,
        "id": "kip4nAWnsaDa"
      },
      "execution_count": null,
      "outputs": []
    },
    {
      "cell_type": "code",
      "source": [
        "\n",
        "models = cv.fit(training)"
      ],
      "metadata": {
        "execution": {
          "iopub.status.busy": "2022-09-23T19:42:58.542365Z",
          "iopub.execute_input": "2022-09-23T19:42:58.543452Z",
          "iopub.status.idle": "2022-09-23T19:44:13.173769Z",
          "shell.execute_reply.started": "2022-09-23T19:42:58.543416Z",
          "shell.execute_reply": "2022-09-23T19:44:13.172871Z"
        },
        "trusted": true,
        "id": "irjvi9QosaDa"
      },
      "execution_count": null,
      "outputs": []
    },
    {
      "cell_type": "code",
      "source": [
        "\n",
        "best_lr = models.bestModel"
      ],
      "metadata": {
        "execution": {
          "iopub.status.busy": "2022-09-23T19:44:20.590744Z",
          "iopub.execute_input": "2022-09-23T19:44:20.591457Z",
          "iopub.status.idle": "2022-09-23T19:44:20.598827Z",
          "shell.execute_reply.started": "2022-09-23T19:44:20.591399Z",
          "shell.execute_reply": "2022-09-23T19:44:20.596504Z"
        },
        "trusted": true,
        "id": "XH3gHnxdsaDa"
      },
      "execution_count": null,
      "outputs": []
    },
    {
      "cell_type": "code",
      "source": [
        "\n",
        "test_results = best_lr.transform(test)\n",
        "\n",
        "print(evaluator.evaluate(test_results))"
      ],
      "metadata": {
        "execution": {
          "iopub.status.busy": "2022-09-23T19:44:22.154679Z",
          "iopub.execute_input": "2022-09-23T19:44:22.155229Z",
          "iopub.status.idle": "2022-09-23T19:44:22.856Z",
          "shell.execute_reply.started": "2022-09-23T19:44:22.155186Z",
          "shell.execute_reply": "2022-09-23T19:44:22.854582Z"
        },
        "trusted": true,
        "id": "f9YxTbnfsaDa",
        "colab": {
          "base_uri": "https://localhost:8080/"
        },
        "outputId": "809e265b-aca8-4bfc-ddeb-5d73a7878265"
      },
      "execution_count": null,
      "outputs": [
        {
          "output_type": "stream",
          "name": "stdout",
          "text": [
            "0.7020539667092403\n"
          ]
        }
      ]
    },
    {
      "cell_type": "code",
      "source": [],
      "metadata": {
        "id": "V6NQ-AgZsaDa"
      },
      "execution_count": null,
      "outputs": []
    }
  ]
}